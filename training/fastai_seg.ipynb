{
 "cells": [
  {
   "cell_type": "code",
   "execution_count": 14,
   "metadata": {},
   "outputs": [],
   "source": [
    "import sys\n",
    "sys.path.append(\"/home/ubuntu/fastai/\")"
   ]
  },
  {
   "cell_type": "code",
   "execution_count": 15,
   "metadata": {},
   "outputs": [],
   "source": [
    "import fastai\n",
    "from fastai.imports import *\n",
    "from fastai.transforms import *\n",
    "from fastai.conv_learner import *\n",
    "from fastai.model import *\n",
    "from fastai.dataset import *\n",
    "from fastai.sgdr import *\n",
    "from fastai.plots import *\n",
    "from glob import glob\n",
    "import pandas as pd\n",
    "import helper\n",
    "from tqdm import tqdm\n",
    "import hashlib\n",
    "from urllib import request\n"
   ]
  },
  {
   "cell_type": "code",
   "execution_count": 16,
   "metadata": {},
   "outputs": [
    {
     "name": "stdout",
     "output_type": "stream",
     "text": [
      "The autoreload extension is already loaded. To reload it, use:\n",
      "  %reload_ext autoreload\n"
     ]
    }
   ],
   "source": [
    "%matplotlib inline\n",
    "%load_ext autoreload\n",
    "\n",
    "%autoreload 2"
   ]
  },
  {
   "cell_type": "code",
   "execution_count": 17,
   "metadata": {},
   "outputs": [],
   "source": [
    "%reload_ext autoreload"
   ]
  },
  {
   "cell_type": "code",
   "execution_count": 18,
   "metadata": {},
   "outputs": [],
   "source": [
    "PATH = \"data/nabirds/\"\n"
   ]
  },
  {
   "cell_type": "code",
   "execution_count": 25,
   "metadata": {},
   "outputs": [],
   "source": [
    "!rm -rf data/tmp"
   ]
  },
  {
   "cell_type": "code",
   "execution_count": 20,
   "metadata": {},
   "outputs": [],
   "source": [
    "?ImageClassifierData.from_paths"
   ]
  },
  {
   "cell_type": "code",
   "execution_count": 26,
   "metadata": {},
   "outputs": [],
   "source": [
    "def get_data(sz, bs):\n",
    "    tfms = tfms_from_model(arch, sz, aug_tfms=transforms_side_on,\n",
    "                           max_zoom=1.1)\n",
    "    data = ImageClassifierData.from_paths(path='data'\n",
    "            , num_workers=8\n",
    "            , tfms=tfms, bs=bs)\n",
    "    #return data.resize(sz, 'tmp')\n",
    "    return data if sz>300 else data.resize(340, 'tmp')"
   ]
  },
  {
   "cell_type": "code",
   "execution_count": 27,
   "metadata": {},
   "outputs": [],
   "source": [
    "sz = 224 # size of image\n",
    "arch = resnet50 #model architecture.. model has 101 layers\n",
    "bs=128 # batch size; number of images to process at one time"
   ]
  },
  {
   "cell_type": "code",
   "execution_count": 28,
   "metadata": {},
   "outputs": [],
   "source": [
    "??ConvLearner.pretrained"
   ]
  },
  {
   "cell_type": "code",
   "execution_count": 29,
   "metadata": {},
   "outputs": [
    {
     "data": {
      "application/vnd.jupyter.widget-view+json": {
       "model_id": "2dc469922c0c40f58688c905fb508de9",
       "version_major": 2,
       "version_minor": 0
      },
      "text/plain": [
       "HBox(children=(IntProgress(value=0, max=6), HTML(value='')))"
      ]
     },
     "metadata": {},
     "output_type": "display_data"
    },
    {
     "name": "stdout",
     "output_type": "stream",
     "text": [
      "                                                    \n",
      "100%|██████████| 22/22 [00:23<00:00,  1.09s/it]\n",
      "100%|██████████| 5/5 [00:05<00:00,  1.03s/it]\n"
     ]
    },
    {
     "data": {
      "application/vnd.jupyter.widget-view+json": {
       "model_id": "47835b9ad5224f91b0ea82d73967b5d6",
       "version_major": 2,
       "version_minor": 0
      },
      "text/plain": [
       "HBox(children=(IntProgress(value=0, description='Epoch', max=3), HTML(value='')))"
      ]
     },
     "metadata": {},
     "output_type": "display_data"
    },
    {
     "name": "stdout",
     "output_type": "stream",
     "text": [
      "epoch      trn_loss   val_loss   accuracy                  \n",
      "    0      0.962448   0.276604   0.931217  \n",
      "    1      0.527299   0.124909   0.975309                  \n",
      "    2      0.352907   0.087475   0.982363                  \n",
      "\n"
     ]
    },
    {
     "data": {
      "text/plain": [
       "[array([0.08748]), 0.9823633173786143]"
      ]
     },
     "execution_count": 29,
     "metadata": {},
     "output_type": "execute_result"
    }
   ],
   "source": [
    "data = get_data(sz, bs)\n",
    "learn = ConvLearner.pretrained(arch, data, precompute=True)\n",
    "learn.fit(lrs=1e-2, n_cycle=3)"
   ]
  },
  {
   "cell_type": "code",
   "execution_count": 34,
   "metadata": {},
   "outputs": [
    {
     "data": {
      "application/vnd.jupyter.widget-view+json": {
       "model_id": "fc5f96a28aa0489aacf706198d49f82e",
       "version_major": 2,
       "version_minor": 0
      },
      "text/plain": [
       "HBox(children=(IntProgress(value=0, description='Epoch', max=5), HTML(value='')))"
      ]
     },
     "metadata": {},
     "output_type": "display_data"
    },
    {
     "name": "stdout",
     "output_type": "stream",
     "text": [
      "epoch      trn_loss   val_loss   accuracy                  \n",
      "    0      0.198768   0.081569   0.984127  \n",
      "    1      0.182536   0.077033   0.985891                  \n",
      "    2      0.182644   0.066996   0.989418                  \n",
      "    3      0.164172   0.061999   0.987654                  \n",
      "    4      0.158171   0.057428   0.987654                  \n",
      "\n"
     ]
    },
    {
     "data": {
      "text/plain": [
       "[array([0.05743]), 0.9876543226696196]"
      ]
     },
     "execution_count": 34,
     "metadata": {},
     "output_type": "execute_result"
    }
   ],
   "source": [
    "learn.precompute = False\n",
    "learn.fit(lrs=1e-2, n_cycle=5, cycle_len=1)"
   ]
  },
  {
   "cell_type": "code",
   "execution_count": 35,
   "metadata": {},
   "outputs": [],
   "source": [
    "learn.unfreeze()"
   ]
  },
  {
   "cell_type": "code",
   "execution_count": 36,
   "metadata": {},
   "outputs": [],
   "source": [
    "lr=1e-2\n",
    "lr=np.array([lr/18,lr/6,lr/2])"
   ]
  },
  {
   "cell_type": "code",
   "execution_count": 37,
   "metadata": {},
   "outputs": [
    {
     "data": {
      "text/plain": [
       "array([0.00056, 0.00167, 0.005  ])"
      ]
     },
     "execution_count": 37,
     "metadata": {},
     "output_type": "execute_result"
    }
   ],
   "source": [
    "lr"
   ]
  },
  {
   "cell_type": "code",
   "execution_count": 38,
   "metadata": {},
   "outputs": [
    {
     "data": {
      "application/vnd.jupyter.widget-view+json": {
       "model_id": "c20f30b721ba42f49583dfce6d4f1078",
       "version_major": 2,
       "version_minor": 0
      },
      "text/plain": [
       "HBox(children=(IntProgress(value=0, description='Epoch', max=7), HTML(value='')))"
      ]
     },
     "metadata": {},
     "output_type": "display_data"
    },
    {
     "name": "stdout",
     "output_type": "stream",
     "text": [
      "epoch      trn_loss   val_loss   accuracy                  \n",
      "    0      0.227444   0.070876   0.982363  \n",
      "    1      0.169555   0.038088   0.985891                  \n",
      "    2      0.134194   0.033658   0.994709                  \n",
      "    3      0.111232   0.022046   0.996473                  \n",
      "    4      0.09061    0.012242   1.0                        \n",
      "    5      0.072685   0.010702   1.0                        \n",
      "    6      0.063827   0.010699   1.0                        \n",
      "\n"
     ]
    },
    {
     "data": {
      "text/plain": [
       "[array([0.0107]), 1.0]"
      ]
     },
     "execution_count": 38,
     "metadata": {},
     "output_type": "execute_result"
    }
   ],
   "source": [
    "learn.fit(lr, 3, cycle_len=1, cycle_mult=2)"
   ]
  },
  {
   "cell_type": "code",
   "execution_count": 40,
   "metadata": {},
   "outputs": [],
   "source": [
    "?learn.fit"
   ]
  },
  {
   "cell_type": "code",
   "execution_count": 41,
   "metadata": {},
   "outputs": [
    {
     "name": "stdout",
     "output_type": "stream",
     "text": [
      "                                             \r"
     ]
    },
    {
     "data": {
      "text/plain": [
       "(0.013812269831144251, 1.0)"
      ]
     },
     "execution_count": 41,
     "metadata": {},
     "output_type": "execute_result"
    }
   ],
   "source": [
    "log_preds,y = learn.TTA()\n",
    "preds = np.mean(np.exp(log_preds),axis=0)\n",
    "(metrics.log_loss(y,preds), accuracy_np(preds,y))"
   ]
  },
  {
   "cell_type": "code",
   "execution_count": 42,
   "metadata": {},
   "outputs": [],
   "source": [
    "predicted_class = np.argmax(preds, axis=1)\n",
    "confidence = np.max(preds, axis=1)"
   ]
  },
  {
   "cell_type": "code",
   "execution_count": 44,
   "metadata": {},
   "outputs": [],
   "source": [
    "predictions_df = pd.DataFrame ({'actual': y, 'pred': predicted_class,'image':learn.data.val_ds.fnames,'conf':confidence})"
   ]
  },
  {
   "cell_type": "code",
   "execution_count": 45,
   "metadata": {},
   "outputs": [],
   "source": [
    "predictions_df['actual_class'] = predictions_df['actual'].apply(lambda x : data.classes[x])\n",
    "predictions_df['pred_class'] = predictions_df['pred'].apply(lambda x : data.classes[x])"
   ]
  },
  {
   "cell_type": "code",
   "execution_count": 46,
   "metadata": {},
   "outputs": [
    {
     "data": {
      "text/html": [
       "<div>\n",
       "<style scoped>\n",
       "    .dataframe tbody tr th:only-of-type {\n",
       "        vertical-align: middle;\n",
       "    }\n",
       "\n",
       "    .dataframe tbody tr th {\n",
       "        vertical-align: top;\n",
       "    }\n",
       "\n",
       "    .dataframe thead th {\n",
       "        text-align: right;\n",
       "    }\n",
       "</style>\n",
       "<table border=\"1\" class=\"dataframe\">\n",
       "  <thead>\n",
       "    <tr style=\"text-align: right;\">\n",
       "      <th></th>\n",
       "      <th>actual</th>\n",
       "      <th>pred</th>\n",
       "      <th>image</th>\n",
       "      <th>conf</th>\n",
       "      <th>actual_class</th>\n",
       "      <th>pred_class</th>\n",
       "    </tr>\n",
       "  </thead>\n",
       "  <tbody>\n",
       "    <tr>\n",
       "      <th>0</th>\n",
       "      <td>0</td>\n",
       "      <td>0</td>\n",
       "      <td>valid/american_goldfinch/9fef369282674ba68b5d8...</td>\n",
       "      <td>0.999406</td>\n",
       "      <td>american_goldfinch</td>\n",
       "      <td>american_goldfinch</td>\n",
       "    </tr>\n",
       "    <tr>\n",
       "      <th>1</th>\n",
       "      <td>0</td>\n",
       "      <td>0</td>\n",
       "      <td>valid/american_goldfinch/0823aa7a15e94ad7b2516...</td>\n",
       "      <td>0.950090</td>\n",
       "      <td>american_goldfinch</td>\n",
       "      <td>american_goldfinch</td>\n",
       "    </tr>\n",
       "    <tr>\n",
       "      <th>2</th>\n",
       "      <td>0</td>\n",
       "      <td>0</td>\n",
       "      <td>valid/american_goldfinch/5c2b6d28fa194e958bbf5...</td>\n",
       "      <td>0.999737</td>\n",
       "      <td>american_goldfinch</td>\n",
       "      <td>american_goldfinch</td>\n",
       "    </tr>\n",
       "    <tr>\n",
       "      <th>3</th>\n",
       "      <td>0</td>\n",
       "      <td>0</td>\n",
       "      <td>valid/american_goldfinch/0f7fe7a108e94a6480c97...</td>\n",
       "      <td>0.999982</td>\n",
       "      <td>american_goldfinch</td>\n",
       "      <td>american_goldfinch</td>\n",
       "    </tr>\n",
       "    <tr>\n",
       "      <th>4</th>\n",
       "      <td>0</td>\n",
       "      <td>0</td>\n",
       "      <td>valid/american_goldfinch/ac28d62aaf6a412c8f21f...</td>\n",
       "      <td>0.999096</td>\n",
       "      <td>american_goldfinch</td>\n",
       "      <td>american_goldfinch</td>\n",
       "    </tr>\n",
       "  </tbody>\n",
       "</table>\n",
       "</div>"
      ],
      "text/plain": [
       "   actual  pred                                              image      conf  \\\n",
       "0       0     0  valid/american_goldfinch/9fef369282674ba68b5d8...  0.999406   \n",
       "1       0     0  valid/american_goldfinch/0823aa7a15e94ad7b2516...  0.950090   \n",
       "2       0     0  valid/american_goldfinch/5c2b6d28fa194e958bbf5...  0.999737   \n",
       "3       0     0  valid/american_goldfinch/0f7fe7a108e94a6480c97...  0.999982   \n",
       "4       0     0  valid/american_goldfinch/ac28d62aaf6a412c8f21f...  0.999096   \n",
       "\n",
       "         actual_class          pred_class  \n",
       "0  american_goldfinch  american_goldfinch  \n",
       "1  american_goldfinch  american_goldfinch  \n",
       "2  american_goldfinch  american_goldfinch  \n",
       "3  american_goldfinch  american_goldfinch  \n",
       "4  american_goldfinch  american_goldfinch  "
      ]
     },
     "execution_count": 46,
     "metadata": {},
     "output_type": "execute_result"
    }
   ],
   "source": [
    "predictions_df.head()"
   ]
  },
  {
   "cell_type": "code",
   "execution_count": 48,
   "metadata": {},
   "outputs": [],
   "source": [
    "def predict_class(image_path):\n",
    "    trn_tfms, val_tfms = tfms_from_model(arch, sz)\n",
    "    im = val_tfms(np.array(open_image(image_path)))\n",
    "\n",
    "    preds = learn.predict_array(im[None])\n",
    "    class_idx = np.argmax(preds)\n",
    "    print(data.classes[class_idx],np.max(preds))\n",
    "    \n",
    "    img = PIL.Image.open(image_path);\n",
    "    #return img\n",
    "    \n",
    "    return helper.get_top_n_predictions(np.exp(preds), data.classes)\n",
    "    #return np.argmax(preds)\n",
    "\n",
    "def predict_class_web(url,ext=\"jpg\"):\n",
    "    url_hash = hashlib.md5(url.encode('utf-8')).hexdigest()\n",
    "    file_name = f'data/downloaded/{url_hash}.{ext}'\n",
    "    f = open(file_name, 'wb')\n",
    "    f.write(request.urlopen(url).read())\n",
    "    f.close()\n",
    "    \n",
    "    return predict_class(file_name)"
   ]
  },
  {
   "cell_type": "code",
   "execution_count": 50,
   "metadata": {},
   "outputs": [],
   "source": [
    "!mkdir -p data/downloaded"
   ]
  },
  {
   "cell_type": "code",
   "execution_count": 57,
   "metadata": {},
   "outputs": [
    {
     "name": "stdout",
     "output_type": "stream",
     "text": [
      "northern_cardinal -0.0007572174\n"
     ]
    },
    {
     "data": {
      "text/plain": [
       "[('northern_cardinal', 0.9992431),\n",
       " ('northern_flicker', 0.00022665679),\n",
       " ('red-winged_blackbird', 0.00017250903),\n",
       " ('european_starling', 0.00012548719),\n",
       " ('white-crowned_sparrow', 0.000119775206)]"
      ]
     },
     "execution_count": 57,
     "metadata": {},
     "output_type": "execute_result"
    }
   ],
   "source": [
    "predict_class_web(\"https://cdn.audubon.org/cdn/farfuture/5ulNXnMMAW1s2ykNgmWThAgzcZaLRssCdMrwVJbrCeg/mtime:1521129685/sites/default/files/styles/article_hero_inline/public/northern_cardinal_female_47837_michele_black_oh2017_habitat_0.jpg?itok=4iUsLJBf\")"
   ]
  },
  {
   "cell_type": "code",
   "execution_count": 53,
   "metadata": {},
   "outputs": [],
   "source": [
    "labels = learn.data.classes\n",
    "cm = confusion_matrix(predictions_df['actual'], predictions_df['pred'])"
   ]
  },
  {
   "cell_type": "code",
   "execution_count": 54,
   "metadata": {},
   "outputs": [
    {
     "data": {
      "text/plain": [
       "['american_goldfinch',\n",
       " 'dark-eyed_junco',\n",
       " 'european_starling',\n",
       " 'mallard',\n",
       " 'northern_cardinal',\n",
       " 'northern_flicker',\n",
       " 'red-tailed_hawk',\n",
       " 'red-winged_blackbird',\n",
       " 'white-crowned_sparrow',\n",
       " 'yellow-rumped_warbler']"
      ]
     },
     "execution_count": 54,
     "metadata": {},
     "output_type": "execute_result"
    }
   ],
   "source": [
    "labels"
   ]
  },
  {
   "cell_type": "code",
   "execution_count": 55,
   "metadata": {},
   "outputs": [
    {
     "data": {
      "image/png": "[encoded data removed]",
      "text/plain": [
       "<Figure size 3600x3600 with 2 Axes>"
      ]
     },
     "metadata": {},
     "output_type": "display_data"
    }
   ],
   "source": [
    "fig, ax = plt.subplots(figsize=(50, 50))\n",
    "_ = sns.heatmap(cm, ax=ax, yticklabels=labels, xticklabels=labels, robust=True)"
   ]
  },
  {
   "cell_type": "code",
   "execution_count": null,
   "metadata": {},
   "outputs": [],
   "source": []
  }
 ],
 "metadata": {
  "kernelspec": {
   "display_name": "Python 3",
   "language": "python",
   "name": "python3"
  },
  "language_info": {
   "codemirror_mode": {
    "name": "ipython",
    "version": 3
   },
   "file_extension": ".py",
   "mimetype": "text/x-python",
   "name": "python",
   "nbconvert_exporter": "python",
   "pygments_lexer": "ipython3",
   "version": "3.6.5"
  }
 },
 "nbformat": 4,
 "nbformat_minor": 2
}
