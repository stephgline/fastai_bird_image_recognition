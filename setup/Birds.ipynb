{
 "cells": [
  {
   "cell_type": "markdown",
   "metadata": {},
   "source": [
    "# Description"
   ]
  },
  {
   "cell_type": "markdown",
   "metadata": {},
   "source": [
    "<img src=\"http://www.vision.caltech.edu/visipedia/collage.jpg\"/>"
   ]
  },
  {
   "cell_type": "markdown",
   "metadata": {},
   "source": [
    "# Datasets"
   ]
  },
  {
   "cell_type": "markdown",
   "metadata": {},
   "source": [
    "## 1) Caltech-UCSD Birds-200-2011"
   ]
  },
  {
   "cell_type": "markdown",
   "metadata": {},
   "source": [
    "### description"
   ]
  },
  {
   "cell_type": "markdown",
   "metadata": {},
   "source": [
    "Caltech-UCSD Birds-200-2011 (CUB-200-2011) is an extended version of the CUB-200 dataset, with roughly double the number of images per class and new part location annotations. For detailed information about the dataset, please see the technical report linked below.\n",
    "\n",
    "Number of categories: 200\n",
    "\n",
    "Number of images: 11,788\n",
    "\n",
    "Annotations per image: 15 Part Locations, 312 Binary Attributes, 1 Bounding Box\n",
    "\n",
    "Some related datasets are Caltech-256, the Oxford Flower Dataset, and Animals with Attributes. More datasets are available at the Caltech Vision Dataset Archive."
   ]
  },
  {
   "cell_type": "markdown",
   "metadata": {},
   "source": [
    "### Source"
   ]
  },
  {
   "cell_type": "markdown",
   "metadata": {},
   "source": [
    "```\n",
    "@techreport{WahCUB_200_2011,\n",
    "\tTitle = {{The Caltech-UCSD Birds-200-2011 Dataset}},\n",
    "\tAuthor = {Wah, C. and Branson, S. and Welinder, P. and Perona, P. and Belongie, S.},\n",
    "\tYear = {2011}\n",
    "\tInstitution = {California Institute of Technology},\n",
    "\tNumber = {CNS-TR-2011-001}\n",
    "}\n",
    "```\n",
    "\n",
    "http://www.vision.caltech.edu/visipedia-data/CUB-200-2011/CUB_200_2011.tgz"
   ]
  },
  {
   "cell_type": "markdown",
   "metadata": {},
   "source": [
    "## 2) NABirds"
   ]
  },
  {
   "cell_type": "markdown",
   "metadata": {},
   "source": [
    "## Description "
   ]
  },
  {
   "cell_type": "markdown",
   "metadata": {},
   "source": [
    "NABirds V1 is a collection of 48,000 annotated photographs of the 400 species of birds that are commonly observed in North America. More than 100 photographs are available for each species, including separate annotations for males, females and juveniles that comprise 700 visual categories. This dataset is to be used for fine-grained visual categorization experiments.\n",
    "\n",
    "More than 550 visual categories, organized taxonomically\n",
    "Photos curated in collaboration with domain experts"
   ]
  },
  {
   "cell_type": "markdown",
   "metadata": {},
   "source": [
    "## Source"
   ]
  },
  {
   "cell_type": "markdown",
   "metadata": {},
   "source": [
    "```\n",
    "Grant Van Horn (gvanhorn@caltech.edu) \n",
    "http://dl.allaboutbirds.org/nabirds\n",
    "```"
   ]
  },
  {
   "cell_type": "markdown",
   "metadata": {},
   "source": [
    "# Download"
   ]
  },
  {
   "cell_type": "markdown",
   "metadata": {},
   "source": [
    "**CUB_200_2011**"
   ]
  },
  {
   "cell_type": "code",
   "execution_count": 4,
   "metadata": {},
   "outputs": [
    {
     "name": "stdout",
     "output_type": "stream",
     "text": [
      "--2018-07-06 01:04:20--  http://www.vision.caltech.edu/visipedia-data/CUB-200-2011/CUB_200_2011.tgz\n",
      "Resolving www.vision.caltech.edu (www.vision.caltech.edu)... 34.208.54.77\n",
      "Connecting to www.vision.caltech.edu (www.vision.caltech.edu)|34.208.54.77|:80... connected.\n",
      "HTTP request sent, awaiting response... 200 OK\n",
      "Length: 1150585339 (1.1G) [application/x-tar]\n",
      "Saving to: ‘CUB_200_2011.tgz’\n",
      "\n",
      "CUB_200_2011.tgz    100%[===================>]   1.07G  9.19MB/s    in 2m 35s  \n",
      "\n",
      "2018-07-06 01:06:55 (7.09 MB/s) - ‘CUB_200_2011.tgz’ saved [1150585339/1150585339]\n",
      "\n"
     ]
    }
   ],
   "source": [
    "!wget http://www.vision.caltech.edu/visipedia-data/CUB-200-2011/CUB_200_2011.tgz"
   ]
  },
  {
   "cell_type": "markdown",
   "metadata": {},
   "source": [
    "** NABirds**"
   ]
  },
  {
   "cell_type": "markdown",
   "metadata": {},
   "source": [
    "Need to use cookies to download from dropbox"
   ]
  },
  {
   "cell_type": "code",
   "execution_count": 5,
   "metadata": {},
   "outputs": [
    {
     "name": "stdout",
     "output_type": "stream",
     "text": [
      "--2018-07-06 01:06:55--  https://www.dropbox.com/s/nf78cbxq6bxpcfc/nabirds.tar.gz?oref=e&n=13142758&submissionGuid=52cdf879-69ff-4c86-9b33-c3118b032f8b\n",
      "Resolving www.dropbox.com (www.dropbox.com)... 162.125.9.1, 2620:100:601a:1::a27d:701\n",
      "Connecting to www.dropbox.com (www.dropbox.com)|162.125.9.1|:443... connected.\n",
      "HTTP request sent, awaiting response... 301 Moved Permanently\n",
      "Location: /s/raw/nf78cbxq6bxpcfc/nabirds.tar.gz [following]\n",
      "--2018-07-06 01:06:56--  https://www.dropbox.com/s/raw/nf78cbxq6bxpcfc/nabirds.tar.gz\n",
      "Reusing existing connection to www.dropbox.com:443.\n",
      "HTTP request sent, awaiting response... 302 Found\n",
      "Location: https://uc4ac7082cf4b9e1f03d22d787eb.dl.dropboxusercontent.com/cd/0/inline/AKpG4bSZWLfmbIidy_lG9stvZGTxts1nDY_ToNgx-kXy0xBhJ_iSWSqI3h_JVk0l2c6otXmOkyQ8vaTktaHKGqswjog8EHsQhdkAYxqGISaI8amWIyFj5dUHN6TvG4TVPHmyWNwUI9h9EdJd4Sk5CJBNjVNTXeJTq2G5ihIh_UN-z4ap1MrQTzTP1Eo6vOUu4Tg/file [following]\n",
      "--2018-07-06 01:06:56--  https://uc4ac7082cf4b9e1f03d22d787eb.dl.dropboxusercontent.com/cd/0/inline/AKpG4bSZWLfmbIidy_lG9stvZGTxts1nDY_ToNgx-kXy0xBhJ_iSWSqI3h_JVk0l2c6otXmOkyQ8vaTktaHKGqswjog8EHsQhdkAYxqGISaI8amWIyFj5dUHN6TvG4TVPHmyWNwUI9h9EdJd4Sk5CJBNjVNTXeJTq2G5ihIh_UN-z4ap1MrQTzTP1Eo6vOUu4Tg/file\n",
      "Resolving uc4ac7082cf4b9e1f03d22d787eb.dl.dropboxusercontent.com (uc4ac7082cf4b9e1f03d22d787eb.dl.dropboxusercontent.com)... 162.125.7.6, 2620:100:601f:6::a27d:906\n",
      "Connecting to uc4ac7082cf4b9e1f03d22d787eb.dl.dropboxusercontent.com (uc4ac7082cf4b9e1f03d22d787eb.dl.dropboxusercontent.com)|162.125.7.6|:443... connected.\n",
      "HTTP request sent, awaiting response... 302 FOUND\n",
      "Location: /cd/0/inline2/AKq70X_uauj1mEvyO88afiE4UiV1lVI26Pq44zukcHoPP9o6ScApAyQEQIS2-7jJoujJTYN9qksszg6NhK6KjJ-9YGdZAg3SJlt-IhxxuogZiwtApZByD2FFz7PHkDj5QscjuvCzPGPte9VqPA0D0Ws-QbyjtnLflvNWy6Isypqm22sbfovtpgR3onv56r9jHxYIjimMZtPC9obW5dCtlxUwmTu4cIh0q3KU3CXFocsv0CX8CgQFoN1qy92tSde52sqA_q6AIn9mIos8X0Go_5NDQp9U0_lIqr0SCHq2tt9dAikiKo4lgFfE2aNc_2K0e0bJ3Gcct5yw5amS8W7JKtEZ6HluuRWEgjYPST2KkupTDEgPhVFTC23wx_hNyR2n_kJlNZ-Do2cXkvup5o1dGvlZ0oU6_YF5UgXkqJogB9KqJBkeSZGbdM_affkCRjRnmXQ/file [following]\n",
      "--2018-07-06 01:06:57--  https://uc4ac7082cf4b9e1f03d22d787eb.dl.dropboxusercontent.com/cd/0/inline2/AKq70X_uauj1mEvyO88afiE4UiV1lVI26Pq44zukcHoPP9o6ScApAyQEQIS2-7jJoujJTYN9qksszg6NhK6KjJ-9YGdZAg3SJlt-IhxxuogZiwtApZByD2FFz7PHkDj5QscjuvCzPGPte9VqPA0D0Ws-QbyjtnLflvNWy6Isypqm22sbfovtpgR3onv56r9jHxYIjimMZtPC9obW5dCtlxUwmTu4cIh0q3KU3CXFocsv0CX8CgQFoN1qy92tSde52sqA_q6AIn9mIos8X0Go_5NDQp9U0_lIqr0SCHq2tt9dAikiKo4lgFfE2aNc_2K0e0bJ3Gcct5yw5amS8W7JKtEZ6HluuRWEgjYPST2KkupTDEgPhVFTC23wx_hNyR2n_kJlNZ-Do2cXkvup5o1dGvlZ0oU6_YF5UgXkqJogB9KqJBkeSZGbdM_affkCRjRnmXQ/file\n",
      "Reusing existing connection to uc4ac7082cf4b9e1f03d22d787eb.dl.dropboxusercontent.com:443.\n",
      "HTTP request sent, awaiting response... 200 OK\n",
      "Length: 9884285075 (9.2G) [application/octet-stream]\n",
      "Saving to: ‘www.dropbox.com/s/nf78cbxq6bxpcfc/nabirds.tar.gz?oref=e&n=13142758&submissionGuid=52cdf879-69ff-4c86-9b33-c3118b032f8b’\n",
      "\n",
      "www.dropbox.com/s/n 100%[===================>]   9.21G  41.8MB/s    in 3m 59s  \n",
      "\n",
      "2018-07-06 01:10:56 (39.5 MB/s) - ‘www.dropbox.com/s/nf78cbxq6bxpcfc/nabirds.tar.gz?oref=e&n=13142758&submissionGuid=52cdf879-69ff-4c86-9b33-c3118b032f8b’ saved [9884285075/9884285075]\n",
      "\n"
     ]
    }
   ],
   "source": [
    "!wget -x --load-cookies cookies.txt \"https://www.dropbox.com/s/nf78cbxq6bxpcfc/nabirds.tar.gz?oref=e&n=13142758&submissionGuid=52cdf879-69ff-4c86-9b33-c3118b032f8b\""
   ]
  },
  {
   "cell_type": "code",
   "execution_count": 17,
   "metadata": {},
   "outputs": [],
   "source": [
    "!mv \"www.dropbox.com/s/nf78cbxq6bxpcfc/nabirds.tar.gz?oref=e&n=13142758&submissionGuid=52cdf879-69ff-4c86-9b33-c3118b032f8b\" nabirds.tar.gz"
   ]
  },
  {
   "cell_type": "code",
   "execution_count": 148,
   "metadata": {},
   "outputs": [],
   "source": [
    "!tar -xf nabirds.tar.gz "
   ]
  },
  {
   "cell_type": "code",
   "execution_count": 149,
   "metadata": {},
   "outputs": [
    {
     "name": "stdout",
     "output_type": "stream",
     "text": [
      "nabirds.tar.gz\r\n"
     ]
    }
   ],
   "source": [
    "!ls nabirds.tar.gz"
   ]
  },
  {
   "cell_type": "code",
   "execution_count": 25,
   "metadata": {},
   "outputs": [
    {
     "name": "stdout",
     "output_type": "stream",
     "text": [
      "part_locs.txt  parts.txt\r\n"
     ]
    }
   ],
   "source": [
    "!ls nabirds/parts/"
   ]
  },
  {
   "cell_type": "code",
   "execution_count": 26,
   "metadata": {},
   "outputs": [
    {
     "name": "stdout",
     "output_type": "stream",
     "text": [
      "0295  0351  0446  0489\t0532  0612  0655  0757\t0800  0843  0886  0929\t0972\r\n",
      "0296  0352  0447  0490\t0533  0613  0656  0758\t0801  0844  0887  0930\t0973\r\n",
      "0297  0353  0448  0491\t0534  0614  0657  0759\t0802  0845  0888  0931\t0974\r\n",
      "0298  0354  0449  0492\t0535  0615  0658  0760\t0803  0846  0889  0932\t0975\r\n",
      "0299  0355  0450  0493\t0536  0616  0659  0761\t0804  0847  0890  0933\t0976\r\n",
      "0313  0356  0451  0494\t0537  0617  0660  0762\t0805  0848  0891  0934\t0977\r\n",
      "0314  0357  0452  0495\t0538  0618  0661  0763\t0806  0849  0892  0935\t0978\r\n",
      "0315  0358  0453  0496\t0539  0619  0662  0764\t0807  0850  0893  0936\t0979\r\n",
      "0316  0359  0454  0497\t0540  0620  0663  0765\t0808  0851  0894  0937\t0980\r\n",
      "0317  0360  0455  0498\t0541  0621  0664  0766\t0809  0852  0895  0938\t0981\r\n",
      "0318  0361  0456  0499\t0542  0622  0665  0767\t0810  0853  0896  0939\t0982\r\n",
      "0319  0362  0457  0500\t0543  0623  0666  0768\t0811  0854  0897  0940\t0983\r\n",
      "0320  0363  0458  0501\t0544  0624  0667  0769\t0812  0855  0898  0941\t0984\r\n",
      "0321  0364  0459  0502\t0545  0625  0668  0770\t0813  0856  0899  0942\t0985\r\n",
      "0322  0365  0460  0503\t0546  0626  0669  0771\t0814  0857  0900  0943\t0986\r\n",
      "0323  0366  0461  0504\t0547  0627  0670  0772\t0815  0858  0901  0944\t0987\r\n",
      "0324  0367  0462  0505\t0548  0628  0671  0773\t0816  0859  0902  0945\t0988\r\n",
      "0325  0368  0463  0506\t0549  0629  0672  0774\t0817  0860  0903  0946\t0989\r\n",
      "0326  0369  0464  0507\t0550  0630  0673  0775\t0818  0861  0904  0947\t0990\r\n",
      "0327  0370  0465  0508\t0551  0631  0674  0776\t0819  0862  0905  0948\t0991\r\n",
      "0328  0371  0466  0509\t0552  0632  0675  0777\t0820  0863  0906  0949\t0992\r\n",
      "0329  0372  0467  0510\t0553  0633  0676  0778\t0821  0864  0907  0950\t0993\r\n",
      "0330  0373  0468  0511\t0554  0634  0677  0779\t0822  0865  0908  0951\t0994\r\n",
      "0331  0374  0469  0512\t0555  0635  0678  0780\t0823  0866  0909  0952\t0995\r\n",
      "0332  0375  0470  0513\t0556  0636  0679  0781\t0824  0867  0910  0953\t0996\r\n",
      "0333  0376  0471  0514\t0557  0637  0680  0782\t0825  0868  0911  0954\t0997\r\n",
      "0334  0377  0472  0515\t0558  0638  0681  0783\t0826  0869  0912  0955\t0998\r\n",
      "0335  0378  0473  0516\t0559  0639  0696  0784\t0827  0870  0913  0956\t0999\r\n",
      "0336  0379  0474  0517\t0560  0640  0697  0785\t0828  0871  0914  0957\t1000\r\n",
      "0337  0380  0475  0518\t0561  0641  0698  0786\t0829  0872  0915  0958\t1001\r\n",
      "0338  0381  0476  0519\t0599  0642  0699  0787\t0830  0873  0916  0959\t1002\r\n",
      "0339  0382  0477  0520\t0600  0643  0700  0788\t0831  0874  0917  0960\t1003\r\n",
      "0340  0392  0478  0521\t0601  0644  0746  0789\t0832  0875  0918  0961\t1004\r\n",
      "0341  0393  0479  0522\t0602  0645  0747  0790\t0833  0876  0919  0962\t1005\r\n",
      "0342  0394  0480  0523\t0603  0646  0748  0791\t0834  0877  0920  0963\t1006\r\n",
      "0343  0395  0481  0524\t0604  0647  0749  0792\t0835  0878  0921  0964\t1007\r\n",
      "0344  0396  0482  0525\t0605  0648  0750  0793\t0836  0879  0922  0965\t1008\r\n",
      "0345  0397  0483  0526\t0606  0649  0751  0794\t0837  0880  0923  0966\t1009\r\n",
      "0346  0398  0484  0527\t0607  0650  0752  0795\t0838  0881  0924  0967\t1010\r\n",
      "0347  0399  0485  0528\t0608  0651  0753  0796\t0839  0882  0925  0968\r\n",
      "0348  0400  0486  0529\t0609  0652  0754  0797\t0840  0883  0926  0969\r\n",
      "0349  0401  0487  0530\t0610  0653  0755  0798\t0841  0884  0927  0970\r\n",
      "0350  0402  0488  0531\t0611  0654  0756  0799\t0842  0885  0928  0971\r\n"
     ]
    }
   ],
   "source": [
    "!ls nabirds/images/\n"
   ]
  },
  {
   "cell_type": "code",
   "execution_count": 28,
   "metadata": {},
   "outputs": [
    {
     "name": "stdout",
     "output_type": "stream",
     "text": [
      "Requirement already satisfied: scikit-image in /home/ubuntu/anaconda3/envs/fastai/lib/python3.6/site-packages\n",
      "Requirement already satisfied: scipy>=0.17.0 in /home/ubuntu/anaconda3/envs/fastai/lib/python3.6/site-packages (from scikit-image)\n",
      "Requirement already satisfied: six>=1.10.0 in /home/ubuntu/anaconda3/envs/fastai/lib/python3.6/site-packages (from scikit-image)\n",
      "Requirement already satisfied: cloudpickle>=0.2.1 in /home/ubuntu/anaconda3/envs/fastai/lib/python3.6/site-packages (from scikit-image)\n",
      "Requirement already satisfied: networkx>=1.8 in /home/ubuntu/anaconda3/envs/fastai/lib/python3.6/site-packages (from scikit-image)\n",
      "Requirement already satisfied: matplotlib>=2.0.0 in /home/ubuntu/anaconda3/envs/fastai/lib/python3.6/site-packages (from scikit-image)\n",
      "Requirement already satisfied: PyWavelets>=0.4.0 in /home/ubuntu/anaconda3/envs/fastai/lib/python3.6/site-packages (from scikit-image)\n",
      "Requirement already satisfied: dask[array]>=0.9.0 in /home/ubuntu/anaconda3/envs/fastai/lib/python3.6/site-packages (from scikit-image)\n",
      "Requirement already satisfied: pillow>=4.3.0 in /home/ubuntu/anaconda3/envs/fastai/lib/python3.6/site-packages (from scikit-image)\n",
      "Requirement already satisfied: decorator>=4.1.0 in /home/ubuntu/anaconda3/envs/fastai/lib/python3.6/site-packages (from networkx>=1.8->scikit-image)\n",
      "Requirement already satisfied: numpy>=1.7.1 in /home/ubuntu/anaconda3/envs/fastai/lib/python3.6/site-packages (from matplotlib>=2.0.0->scikit-image)\n",
      "Requirement already satisfied: cycler>=0.10 in /home/ubuntu/anaconda3/envs/fastai/lib/python3.6/site-packages/cycler-0.10.0-py3.6.egg (from matplotlib>=2.0.0->scikit-image)\n",
      "Requirement already satisfied: pyparsing!=2.0.4,!=2.1.2,!=2.1.6,>=2.0.1 in /home/ubuntu/anaconda3/envs/fastai/lib/python3.6/site-packages (from matplotlib>=2.0.0->scikit-image)\n",
      "Requirement already satisfied: python-dateutil>=2.1 in /home/ubuntu/anaconda3/envs/fastai/lib/python3.6/site-packages (from matplotlib>=2.0.0->scikit-image)\n",
      "Requirement already satisfied: pytz in /home/ubuntu/anaconda3/envs/fastai/lib/python3.6/site-packages (from matplotlib>=2.0.0->scikit-image)\n",
      "Requirement already satisfied: kiwisolver>=1.0.1 in /home/ubuntu/anaconda3/envs/fastai/lib/python3.6/site-packages (from matplotlib>=2.0.0->scikit-image)\n",
      "Requirement already satisfied: toolz>=0.7.3 in /home/ubuntu/anaconda3/envs/fastai/lib/python3.6/site-packages (from dask[array]>=0.9.0->scikit-image)\n",
      "Requirement already satisfied: setuptools in /home/ubuntu/anaconda3/envs/fastai/lib/python3.6/site-packages (from kiwisolver>=1.0.1->matplotlib>=2.0.0->scikit-image)\n",
      "\u001b[33mYou are using pip version 9.0.3, however version 10.0.1 is available.\n",
      "You should consider upgrading via the 'pip install --upgrade pip' command.\u001b[0m\n"
     ]
    }
   ],
   "source": [
    "!pip install scikit-image"
   ]
  },
  {
   "cell_type": "code",
   "execution_count": null,
   "metadata": {},
   "outputs": [],
   "source": []
  },
  {
   "cell_type": "code",
   "execution_count": 31,
   "metadata": {},
   "outputs": [],
   "source": [
    "import matplotlib.pyplot as plt\n",
    "from skimage import io as skio\n",
    "import pandas as pd\n",
    "import csv\n",
    "from tqdm import tqdm\n",
    "import shutil\n",
    "import os\n",
    "import os\n",
    "%matplotlib inline"
   ]
  },
  {
   "cell_type": "code",
   "execution_count": 30,
   "metadata": {},
   "outputs": [
    {
     "name": "stdout",
     "output_type": "stream",
     "text": [
      "bounding_boxes.txt\timages\t     parts\t\tsizes.txt\r\n",
      "classes.txt\t\timages.txt   photographers.txt\ttrain_test_split.txt\r\n",
      "hierarchy.txt\t\t__init__.py  README\r\n",
      "image_class_labels.txt\tnabirds.py   README~\r\n"
     ]
    }
   ],
   "source": [
    "!ls nabirds/"
   ]
  },
  {
   "cell_type": "markdown",
   "metadata": {},
   "source": [
    "# Preprocess Images"
   ]
  },
  {
   "cell_type": "markdown",
   "metadata": {},
   "source": [
    "- extract image based on bounding boxes\n",
    "- flatten/reduce bird hierachy  ( species A male/female  vs species A)"
   ]
  },
  {
   "cell_type": "code",
   "execution_count": null,
   "metadata": {},
   "outputs": [],
   "source": []
  },
  {
   "cell_type": "code",
   "execution_count": 151,
   "metadata": {},
   "outputs": [],
   "source": [
    "def load_image_paths(dataset_path='', path_prefix=''):\n",
    "  \n",
    "  paths = {}\n",
    "  \n",
    "  with open(os.path.join(dataset_path, 'images.txt')) as f:\n",
    "    for line in f:\n",
    "      pieces = line.strip().split()\n",
    "      image_id = pieces[0]\n",
    "      path = os.path.join(path_prefix, pieces[1])\n",
    "      paths[image_id] = path\n",
    "  \n",
    "  return paths"
   ]
  },
  {
   "cell_type": "code",
   "execution_count": 152,
   "metadata": {},
   "outputs": [],
   "source": [
    "def load_bounding_box_annotations(dataset_path=''):\n",
    "  \n",
    "  bboxes = {}\n",
    "  \n",
    "  with open(os.path.join(dataset_path, 'bounding_boxes.txt')) as f:\n",
    "    for line in f:\n",
    "        pieces = line.strip().split()\n",
    "        image_id = pieces[0]\n",
    "        bbox = list(map(int, pieces[1:]))\n",
    "        bboxes[image_id] = bbox\n",
    "  \n",
    "  return bboxes"
   ]
  },
  {
   "cell_type": "code",
   "execution_count": 153,
   "metadata": {},
   "outputs": [],
   "source": [
    "def load_hierarchy(dataset_path=''):\n",
    "  \n",
    "  parents = {}\n",
    "  \n",
    "  with open(os.path.join(dataset_path, 'hierarchy.txt')) as f:\n",
    "    for line in f:\n",
    "      pieces = line.strip().split()\n",
    "      child_id, parent_id = pieces\n",
    "      parents[child_id] = parent_id\n",
    "  \n",
    "  return parents"
   ]
  },
  {
   "cell_type": "code",
   "execution_count": 154,
   "metadata": {},
   "outputs": [],
   "source": [
    "def load_class_names(dataset_path=''):\n",
    "  \n",
    "  names = {}\n",
    "  \n",
    "  with open(os.path.join(dataset_path, 'classes.txt')) as f:\n",
    "    for line in f:\n",
    "      pieces = line.strip().split()\n",
    "      class_id = pieces[0]\n",
    "      names[class_id] = ' '.join(pieces[1:])\n",
    "  \n",
    "  return names\n"
   ]
  },
  {
   "cell_type": "code",
   "execution_count": 155,
   "metadata": {},
   "outputs": [],
   "source": [
    "def load_image_labels(dataset_path=''):\n",
    "  labels = {}\n",
    "  \n",
    "  with open(os.path.join(dataset_path, 'image_class_labels.txt')) as f:\n",
    "    for line in f:\n",
    "      pieces = line.strip().split()\n",
    "      image_id = pieces[0]\n",
    "      class_id = pieces[1]\n",
    "      labels[image_id] = class_id\n",
    "  \n",
    "  return labels"
   ]
  },
  {
   "cell_type": "code",
   "execution_count": null,
   "metadata": {},
   "outputs": [],
   "source": []
  },
  {
   "cell_type": "code",
   "execution_count": null,
   "metadata": {},
   "outputs": [],
   "source": []
  },
  {
   "cell_type": "code",
   "execution_count": 156,
   "metadata": {},
   "outputs": [],
   "source": [
    "image_mapping = load_image_paths(dataset_path='nabirds')"
   ]
  },
  {
   "cell_type": "code",
   "execution_count": 165,
   "metadata": {},
   "outputs": [],
   "source": [
    "bboxes = load_bounding_box_annotations(dataset_path='nabirds')\n",
    "class_hierarchy = load_hierarchy(dataset_path='nabirds')"
   ]
  },
  {
   "cell_type": "code",
   "execution_count": 166,
   "metadata": {},
   "outputs": [],
   "source": [
    "class_names = load_class_names(dataset_path='nabirds')\n",
    "\n",
    "image_class_labels = load_image_labels(dataset_path='nabirds')"
   ]
  },
  {
   "cell_type": "code",
   "execution_count": null,
   "metadata": {},
   "outputs": [],
   "source": []
  },
  {
   "cell_type": "code",
   "execution_count": 191,
   "metadata": {},
   "outputs": [],
   "source": [
    "def flatten_hierachy(visualize=False,  end=None):\n",
    "    final_class_mappings = []\n",
    "    for image_id in list(image_mapping.keys())[0:end]:\n",
    "        label_path = []\n",
    "        class_label = image_class_labels[image_id]\n",
    "        class_name = class_names[class_label]\n",
    "        current_class_label = class_label\n",
    "\n",
    "        while current_class_label in class_hierarchy:\n",
    "            label_path.append((class_names[current_class_label], current_class_label))\n",
    "            current_class_label = class_hierarchy[current_class_label]\n",
    "            label_path.append((class_names[current_class_label], current_class_label)) # add the root node\n",
    "        label_path.reverse()\n",
    "\n",
    "        if visualize:\n",
    "            print (class_name)\n",
    "            for depth, (class_name, class_id) in enumerate(label_path):\n",
    "                line = \"\\t\" * (depth + 1)\n",
    "                print (line + \"|- %s \\t[ID: %s]\" % (class_name, class_id))\n",
    "\n",
    "        ( new_class_name, new_class_label) =  label_path[-2]\n",
    "        final_class_mappings.append({'image_id':image_id,'class_name':class_names[class_label]\n",
    "                                     , 'class_label':class_label, 'new_class_label':new_class_label\n",
    "                                    , 'new_class_name': new_class_name\n",
    "                                    })\n",
    "        \n",
    "    return final_class_mappings"
   ]
  },
  {
   "cell_type": "markdown",
   "metadata": {},
   "source": [
    "We see based on the hierachy, that the classification can go pretty deep  (Bird -> Perching Bird -> Thrushes -> American Robin)"
   ]
  },
  {
   "cell_type": "code",
   "execution_count": 192,
   "metadata": {},
   "outputs": [
    {
     "name": "stdout",
     "output_type": "stream",
     "text": [
      "Oak Titmouse\n",
      "\t|- Birds \t[ID: 0]\n",
      "\t\t|- Perching Birds \t[ID: 22]\n",
      "\t\t\t|- Perching Birds \t[ID: 22]\n",
      "\t\t\t\t|- Chickadees and Titmice \t[ID: 69]\n",
      "\t\t\t\t\t|- Chickadees and Titmice \t[ID: 69]\n",
      "\t\t\t\t\t\t|- Oak Titmouse \t[ID: 587]\n",
      "\t\t\t\t\t\t\t|- Oak Titmouse \t[ID: 587]\n",
      "\t\t\t\t\t\t\t\t|- Oak Titmouse \t[ID: 817]\n",
      "Ovenbird\n",
      "\t|- Birds \t[ID: 0]\n",
      "\t\t|- Perching Birds \t[ID: 22]\n",
      "\t\t\t|- Perching Birds \t[ID: 22]\n",
      "\t\t\t\t|- Wood-Warblers \t[ID: 207]\n",
      "\t\t\t\t\t|- Wood-Warblers \t[ID: 207]\n",
      "\t\t\t\t\t\t|- Ovenbird \t[ID: 251]\n",
      "\t\t\t\t\t\t\t|- Ovenbird \t[ID: 251]\n",
      "\t\t\t\t\t\t\t\t|- Ovenbird \t[ID: 860]\n",
      "Savannah Sparrow\n",
      "\t|- Birds \t[ID: 0]\n",
      "\t\t|- Perching Birds \t[ID: 22]\n",
      "\t\t\t|- Perching Birds \t[ID: 22]\n",
      "\t\t\t\t|- New World Sparrows and Allies \t[ID: 212]\n",
      "\t\t\t\t\t|- New World Sparrows and Allies \t[ID: 212]\n",
      "\t\t\t\t\t\t|- Savannah Sparrow \t[ID: 583]\n",
      "\t\t\t\t\t\t\t|- Savannah Sparrow \t[ID: 583]\n",
      "\t\t\t\t\t\t\t\t|- Savannah Sparrow \t[ID: 900]\n",
      "Eared Grebe (Nonbreeding/juvenile)\n",
      "\t|- Birds \t[ID: 0]\n",
      "\t\t|- Grebes \t[ID: 4]\n",
      "\t\t\t|- Grebes \t[ID: 4]\n",
      "\t\t\t\t|- Eared Grebe \t[ID: 157]\n",
      "\t\t\t\t\t|- Eared Grebe \t[ID: 157]\n",
      "\t\t\t\t\t\t|- Eared Grebe (Nonbreeding/juvenile) \t[ID: 645]\n",
      "Eastern Phoebe\n",
      "\t|- Birds \t[ID: 0]\n",
      "\t\t|- Perching Birds \t[ID: 22]\n",
      "\t\t\t|- Perching Birds \t[ID: 22]\n",
      "\t\t\t\t|- Tyrant Flycatchers \t[ID: 25]\n",
      "\t\t\t\t\t|- Tyrant Flycatchers \t[ID: 25]\n",
      "\t\t\t\t\t\t|- Eastern Phoebe \t[ID: 420]\n",
      "\t\t\t\t\t\t\t|- Eastern Phoebe \t[ID: 420]\n",
      "\t\t\t\t\t\t\t\t|- Eastern Phoebe \t[ID: 929]\n",
      "Yellow-crowned Night-Heron (Immature)\n",
      "\t|- Birds \t[ID: 0]\n",
      "\t\t|- Pelicans, Herons, Ibises, and Allies \t[ID: 7]\n",
      "\t\t\t|- Pelicans, Herons, Ibises, and Allies \t[ID: 7]\n",
      "\t\t\t\t|- Yellow-crowned Night-Heron \t[ID: 184]\n",
      "\t\t\t\t\t|- Yellow-crowned Night-Heron \t[ID: 184]\n",
      "\t\t\t\t\t\t|- Yellow-crowned Night-Heron (Immature) \t[ID: 652]\n",
      "Florida Scrub-Jay\n",
      "\t|- Birds \t[ID: 0]\n",
      "\t\t|- Perching Birds \t[ID: 22]\n",
      "\t\t\t|- Perching Birds \t[ID: 22]\n",
      "\t\t\t\t|- Jays, Magpies, and Crows \t[ID: 48]\n",
      "\t\t\t\t\t|- Jays, Magpies, and Crows \t[ID: 48]\n",
      "\t\t\t\t\t\t|- Florida Scrub-Jay \t[ID: 301]\n",
      "\t\t\t\t\t\t\t|- Florida Scrub-Jay \t[ID: 301]\n",
      "\t\t\t\t\t\t\t\t|- Florida Scrub-Jay \t[ID: 951]\n",
      "Savannah Sparrow\n",
      "\t|- Birds \t[ID: 0]\n",
      "\t\t|- Perching Birds \t[ID: 22]\n",
      "\t\t\t|- Perching Birds \t[ID: 22]\n",
      "\t\t\t\t|- New World Sparrows and Allies \t[ID: 212]\n",
      "\t\t\t\t\t|- New World Sparrows and Allies \t[ID: 212]\n",
      "\t\t\t\t\t\t|- Savannah Sparrow \t[ID: 583]\n",
      "\t\t\t\t\t\t\t|- Savannah Sparrow \t[ID: 583]\n",
      "\t\t\t\t\t\t\t\t|- Savannah Sparrow \t[ID: 900]\n",
      "Yellow-headed Blackbird (Female/Immature Male)\n",
      "\t|- Birds \t[ID: 0]\n",
      "\t\t|- Perching Birds \t[ID: 22]\n",
      "\t\t\t|- Perching Birds \t[ID: 22]\n",
      "\t\t\t\t|- Blackbirds and Allies \t[ID: 227]\n",
      "\t\t\t\t\t|- Blackbirds and Allies \t[ID: 227]\n",
      "\t\t\t\t\t\t|- Yellow-headed Blackbird \t[ID: 306]\n",
      "\t\t\t\t\t\t\t|- Yellow-headed Blackbird \t[ID: 306]\n",
      "\t\t\t\t\t\t\t\t|- Yellow-headed Blackbird (Female/Immature Male) \t[ID: 988]\n",
      "Herring Gull (Adult)\n",
      "\t|- Birds \t[ID: 0]\n",
      "\t\t|- Gulls, Terns, and Allies \t[ID: 13]\n",
      "\t\t\t|- Gulls, Terns, and Allies \t[ID: 13]\n",
      "\t\t\t\t|- Herring Gull \t[ID: 242]\n",
      "\t\t\t\t\t|- Herring Gull \t[ID: 242]\n",
      "\t\t\t\t\t\t|- Herring Gull (Adult) \t[ID: 400]\n",
      "Townsend's Solitaire\n",
      "\t|- Birds \t[ID: 0]\n",
      "\t\t|- Perching Birds \t[ID: 22]\n",
      "\t\t\t|- Perching Birds \t[ID: 22]\n",
      "\t\t\t\t|- Thrushes \t[ID: 156]\n",
      "\t\t\t\t\t|- Thrushes \t[ID: 156]\n",
      "\t\t\t\t\t\t|- Townsend's Solitaire \t[ID: 407]\n",
      "\t\t\t\t\t\t\t|- Townsend's Solitaire \t[ID: 407]\n",
      "\t\t\t\t\t\t\t\t|- Townsend's Solitaire \t[ID: 845]\n",
      "Ruddy Duck (Female/juvenile)\n",
      "\t|- Birds \t[ID: 0]\n",
      "\t\t|- Ducks, Geese, and Swans \t[ID: 1]\n",
      "\t\t\t|- Ducks, Geese, and Swans \t[ID: 1]\n",
      "\t\t\t\t|- Ruddy Duck \t[ID: 238]\n",
      "\t\t\t\t\t|- Ruddy Duck \t[ID: 238]\n",
      "\t\t\t\t\t\t|- Ruddy Duck (Female/juvenile) \t[ID: 698]\n",
      "Lazuli Bunting (Adult Male)\n",
      "\t|- Birds \t[ID: 0]\n",
      "\t\t|- Perching Birds \t[ID: 22]\n",
      "\t\t\t|- Perching Birds \t[ID: 22]\n",
      "\t\t\t\t|- Cardinals, Grosbeaks, and Allies \t[ID: 217]\n",
      "\t\t\t\t\t|- Cardinals, Grosbeaks, and Allies \t[ID: 217]\n",
      "\t\t\t\t\t\t|- Lazuli Bunting \t[ID: 687]\n",
      "\t\t\t\t\t\t\t|- Lazuli Bunting \t[ID: 687]\n",
      "\t\t\t\t\t\t\t\t|- Lazuli Bunting (Adult Male) \t[ID: 776]\n",
      "Black-crowned Night-Heron (Immature)\n",
      "\t|- Birds \t[ID: 0]\n",
      "\t\t|- Pelicans, Herons, Ibises, and Allies \t[ID: 7]\n",
      "\t\t\t|- Pelicans, Herons, Ibises, and Allies \t[ID: 7]\n",
      "\t\t\t\t|- Black-crowned Night-Heron \t[ID: 173]\n",
      "\t\t\t\t\t|- Black-crowned Night-Heron \t[ID: 173]\n",
      "\t\t\t\t\t\t|- Black-crowned Night-Heron (Immature) \t[ID: 651]\n",
      "Red-tailed Hawk (Light morph immature)\n",
      "\t|- Birds \t[ID: 0]\n",
      "\t\t|- Hawks, Kites, Eagles, and Allies \t[ID: 8]\n",
      "\t\t\t|- Hawks, Kites, Eagles, and Allies \t[ID: 8]\n",
      "\t\t\t\t|- Red-tailed Hawk \t[ID: 210]\n",
      "\t\t\t\t\t|- Red-tailed Hawk \t[ID: 210]\n",
      "\t\t\t\t\t\t|- Red-tailed Hawk (Light morph immature) \t[ID: 700]\n",
      "Red-eyed Vireo\n",
      "\t|- Birds \t[ID: 0]\n",
      "\t\t|- Perching Birds \t[ID: 22]\n",
      "\t\t\t|- Perching Birds \t[ID: 22]\n",
      "\t\t\t\t|- Vireos \t[ID: 38]\n",
      "\t\t\t\t\t|- Vireos \t[ID: 38]\n",
      "\t\t\t\t\t\t|- Red-eyed Vireo \t[ID: 733]\n",
      "\t\t\t\t\t\t\t|- Red-eyed Vireo \t[ID: 733]\n",
      "\t\t\t\t\t\t\t\t|- Red-eyed Vireo \t[ID: 947]\n",
      "Red-naped Sapsucker\n",
      "\t|- Birds \t[ID: 0]\n",
      "\t\t|- Woodpeckers \t[ID: 21]\n",
      "\t\t\t|- Woodpeckers \t[ID: 21]\n",
      "\t\t\t\t|- Red-naped Sapsucker \t[ID: 124]\n",
      "\t\t\t\t\t|- Red-naped Sapsucker \t[ID: 124]\n",
      "\t\t\t\t\t\t|- Red-naped Sapsucker \t[ID: 555]\n",
      "Allen's Hummingbird (Adult Male)\n",
      "\t|- Birds \t[ID: 0]\n",
      "\t\t|- Swifts and Hummingbirds \t[ID: 19]\n",
      "\t\t\t|- Swifts and Hummingbirds \t[ID: 19]\n",
      "\t\t\t\t|- Allen's Hummingbird \t[ID: 228]\n",
      "\t\t\t\t\t|- Allen's Hummingbird \t[ID: 228]\n",
      "\t\t\t\t\t\t|- Allen's Hummingbird (Adult Male) \t[ID: 380]\n",
      "Hutton's Vireo\n",
      "\t|- Birds \t[ID: 0]\n",
      "\t\t|- Perching Birds \t[ID: 22]\n",
      "\t\t\t|- Perching Birds \t[ID: 22]\n",
      "\t\t\t\t|- Vireos \t[ID: 38]\n",
      "\t\t\t\t\t|- Vireos \t[ID: 38]\n",
      "\t\t\t\t\t\t|- Hutton's Vireo \t[ID: 689]\n",
      "\t\t\t\t\t\t\t|- Hutton's Vireo \t[ID: 689]\n",
      "\t\t\t\t\t\t\t\t|- Hutton's Vireo \t[ID: 945]\n",
      "Vermilion Flycatcher (Adult male)\n",
      "\t|- Birds \t[ID: 0]\n",
      "\t\t|- Perching Birds \t[ID: 22]\n",
      "\t\t\t|- Perching Birds \t[ID: 22]\n",
      "\t\t\t\t|- Tyrant Flycatchers \t[ID: 25]\n",
      "\t\t\t\t\t|- Tyrant Flycatchers \t[ID: 25]\n",
      "\t\t\t\t\t\t|- Vermilion Flycatcher \t[ID: 575]\n",
      "\t\t\t\t\t\t\t|- Vermilion Flycatcher \t[ID: 575]\n",
      "\t\t\t\t\t\t\t\t|- Vermilion Flycatcher (Adult male) \t[ID: 797]\n",
      "Bridled Titmouse\n",
      "\t|- Birds \t[ID: 0]\n",
      "\t\t|- Perching Birds \t[ID: 22]\n",
      "\t\t\t|- Perching Birds \t[ID: 22]\n",
      "\t\t\t\t|- Chickadees and Titmice \t[ID: 69]\n",
      "\t\t\t\t\t|- Chickadees and Titmice \t[ID: 69]\n",
      "\t\t\t\t\t\t|- Bridled Titmouse \t[ID: 569]\n",
      "\t\t\t\t\t\t\t|- Bridled Titmouse \t[ID: 569]\n",
      "\t\t\t\t\t\t\t\t|- Bridled Titmouse \t[ID: 816]\n",
      "Painted Bunting (Female/juvenile)\n",
      "\t|- Birds \t[ID: 0]\n",
      "\t\t|- Perching Birds \t[ID: 22]\n",
      "\t\t\t|- Perching Birds \t[ID: 22]\n",
      "\t\t\t\t|- Cardinals, Grosbeaks, and Allies \t[ID: 217]\n",
      "\t\t\t\t\t|- Cardinals, Grosbeaks, and Allies \t[ID: 217]\n",
      "\t\t\t\t\t\t|- Painted Bunting \t[ID: 723]\n",
      "\t\t\t\t\t\t\t|- Painted Bunting \t[ID: 723]\n",
      "\t\t\t\t\t\t\t\t|- Painted Bunting (Female/juvenile) \t[ID: 985]\n",
      "Great Cormorant (Adult)\n",
      "\t|- Birds \t[ID: 0]\n",
      "\t\t|- Frigatebirds, Boobies, Cormorants, Darters, and Allies \t[ID: 6]\n",
      "\t\t\t|- Frigatebirds, Boobies, Cormorants, Darters, and Allies \t[ID: 6]\n",
      "\t\t\t\t|- Great Cormorant \t[ID: 170]\n",
      "\t\t\t\t\t|- Great Cormorant \t[ID: 170]\n",
      "\t\t\t\t\t\t|- Great Cormorant (Adult) \t[ID: 349]\n",
      "Steller's Jay\n",
      "\t|- Birds \t[ID: 0]\n",
      "\t\t|- Perching Birds \t[ID: 22]\n",
      "\t\t\t|- Perching Birds \t[ID: 22]\n",
      "\t\t\t\t|- Jays, Magpies, and Crows \t[ID: 48]\n",
      "\t\t\t\t\t|- Jays, Magpies, and Crows \t[ID: 48]\n",
      "\t\t\t\t\t\t|- Steller's Jay \t[ID: 271]\n",
      "\t\t\t\t\t\t\t|- Steller's Jay \t[ID: 271]\n",
      "\t\t\t\t\t\t\t\t|- Steller's Jay \t[ID: 949]\n",
      "Common Yellowthroat (Female/immature male)\n",
      "\t|- Birds \t[ID: 0]\n",
      "\t\t|- Perching Birds \t[ID: 22]\n",
      "\t\t\t|- Perching Birds \t[ID: 22]\n",
      "\t\t\t\t|- Wood-Warblers \t[ID: 207]\n",
      "\t\t\t\t\t|- Wood-Warblers \t[ID: 207]\n",
      "\t\t\t\t\t\t|- Common Yellowthroat \t[ID: 391]\n",
      "\t\t\t\t\t\t\t|- Common Yellowthroat \t[ID: 391]\n",
      "\t\t\t\t\t\t\t\t|- Common Yellowthroat (Female/immature male) \t[ID: 963]\n",
      "Verdin\n",
      "\t|- Birds \t[ID: 0]\n",
      "\t\t|- Perching Birds \t[ID: 22]\n",
      "\t\t\t|- Perching Birds \t[ID: 22]\n",
      "\t\t\t\t|- Verdin \t[ID: 80]\n",
      "\t\t\t\t\t|- Verdin \t[ID: 80]\n",
      "\t\t\t\t\t\t|- Verdin \t[ID: 433]\n",
      "\t\t\t\t\t\t\t|- Verdin \t[ID: 433]\n",
      "\t\t\t\t\t\t\t\t|- Verdin \t[ID: 821]\n",
      "Killdeer\n",
      "\t|- Birds \t[ID: 0]\n",
      "\t\t|- Plovers, Sandpipers, and Allies \t[ID: 11]\n",
      "\t\t\t|- Plovers, Sandpipers, and Allies \t[ID: 11]\n",
      "\t\t\t\t|- Killdeer \t[ID: 30]\n",
      "\t\t\t\t\t|- Killdeer \t[ID: 30]\n",
      "\t\t\t\t\t\t|- Killdeer \t[ID: 504]\n",
      "House Finch (Female/immature)\n",
      "\t|- Birds \t[ID: 0]\n",
      "\t\t|- Perching Birds \t[ID: 22]\n",
      "\t\t\t|- Perching Birds \t[ID: 22]\n",
      "\t\t\t\t|- Finches and Allies \t[ID: 231]\n",
      "\t\t\t\t\t|- Finches and Allies \t[ID: 231]\n",
      "\t\t\t\t\t\t|- House Finch \t[ID: 419]\n",
      "\t\t\t\t\t\t\t|- House Finch \t[ID: 419]\n",
      "\t\t\t\t\t\t\t\t|- House Finch (Female/immature) \t[ID: 997]\n",
      "Reddish Egret (Dark morph)\n",
      "\t|- Birds \t[ID: 0]\n",
      "\t\t|- Pelicans, Herons, Ibises, and Allies \t[ID: 7]\n",
      "\t\t\t|- Pelicans, Herons, Ibises, and Allies \t[ID: 7]\n",
      "\t\t\t\t|- Reddish Egret \t[ID: 127]\n",
      "\t\t\t\t\t|- Reddish Egret \t[ID: 127]\n",
      "\t\t\t\t\t\t|- Reddish Egret (Dark morph) \t[ID: 351]\n",
      "Spotted Sandpiper (Nonbreeding/juvenile)\n",
      "\t|- Birds \t[ID: 0]\n",
      "\t\t|- Plovers, Sandpipers, and Allies \t[ID: 11]\n",
      "\t\t\t|- Plovers, Sandpipers, and Allies \t[ID: 11]\n",
      "\t\t\t\t|- Spotted Sandpiper \t[ID: 56]\n",
      "\t\t\t\t\t|- Spotted Sandpiper \t[ID: 56]\n",
      "\t\t\t\t\t\t|- Spotted Sandpiper (Nonbreeding/juvenile) \t[ID: 667]\n",
      "White-winged Scoter (Female/juvenile)\n",
      "\t|- Birds \t[ID: 0]\n",
      "\t\t|- Ducks, Geese, and Swans \t[ID: 1]\n",
      "\t\t\t|- Ducks, Geese, and Swans \t[ID: 1]\n",
      "\t\t\t\t|- White-winged Scoter \t[ID: 192]\n",
      "\t\t\t\t\t|- White-winged Scoter \t[ID: 192]\n",
      "\t\t\t\t\t\t|- White-winged Scoter (Female/juvenile) \t[ID: 629]\n",
      "Golden Eagle (Immature)\n",
      "\t|- Birds \t[ID: 0]\n",
      "\t\t|- Hawks, Kites, Eagles, and Allies \t[ID: 8]\n",
      "\t\t\t|- Hawks, Kites, Eagles, and Allies \t[ID: 8]\n",
      "\t\t\t\t|- Golden Eagle \t[ID: 234]\n",
      "\t\t\t\t\t|- Golden Eagle \t[ID: 234]\n",
      "\t\t\t\t\t\t|- Golden Eagle (Immature) \t[ID: 661]\n",
      "Cassin's Vireo\n",
      "\t|- Birds \t[ID: 0]\n",
      "\t\t|- Perching Birds \t[ID: 22]\n",
      "\t\t\t|- Perching Birds \t[ID: 22]\n",
      "\t\t\t\t|- Vireos \t[ID: 38]\n",
      "\t\t\t\t\t|- Vireos \t[ID: 38]\n",
      "\t\t\t\t\t\t|- Cassin's Vireo \t[ID: 563]\n",
      "\t\t\t\t\t\t\t|- Cassin's Vireo \t[ID: 563]\n",
      "\t\t\t\t\t\t\t\t|- Cassin's Vireo \t[ID: 943]\n",
      "White-winged Dove\n",
      "\t|- Birds \t[ID: 0]\n",
      "\t\t|- Pigeons and Doves \t[ID: 14]\n",
      "\t\t\t|- Pigeons and Doves \t[ID: 14]\n",
      "\t\t\t\t|- White-winged Dove \t[ID: 137]\n",
      "\t\t\t\t\t|- White-winged Dove \t[ID: 137]\n",
      "\t\t\t\t\t\t|- White-winged Dove \t[ID: 528]\n",
      "Western Screech-Owl\n",
      "\t|- Birds \t[ID: 0]\n",
      "\t\t|- Owls \t[ID: 17]\n",
      "\t\t\t|- Owls \t[ID: 17]\n",
      "\t\t\t\t|- Western Screech-Owl \t[ID: 62]\n",
      "\t\t\t\t\t|- Western Screech-Owl \t[ID: 62]\n",
      "\t\t\t\t\t\t|- Western Screech-Owl \t[ID: 537]\n",
      "White-crowned Sparrow (Adult)\n",
      "\t|- Birds \t[ID: 0]\n",
      "\t\t|- Perching Birds \t[ID: 22]\n",
      "\t\t\t|- Perching Birds \t[ID: 22]\n",
      "\t\t\t\t|- New World Sparrows and Allies \t[ID: 212]\n",
      "\t\t\t\t\t|- New World Sparrows and Allies \t[ID: 212]\n",
      "\t\t\t\t\t\t|- White-crowned Sparrow \t[ID: 729]\n",
      "\t\t\t\t\t\t\t|- White-crowned Sparrow \t[ID: 729]\n",
      "\t\t\t\t\t\t\t\t|- White-crowned Sparrow (Adult) \t[ID: 766]\n",
      "Chestnut-sided Warbler (Breeding male)\n",
      "\t|- Birds \t[ID: 0]\n",
      "\t\t|- Perching Birds \t[ID: 22]\n",
      "\t\t\t|- Perching Birds \t[ID: 22]\n",
      "\t\t\t\t|- Wood-Warblers \t[ID: 207]\n",
      "\t\t\t\t\t|- Wood-Warblers \t[ID: 207]\n",
      "\t\t\t\t\t\t|- Chestnut-sided Warbler \t[ID: 577]\n",
      "\t\t\t\t\t\t\t|- Chestnut-sided Warbler \t[ID: 577]\n",
      "\t\t\t\t\t\t\t\t|- Chestnut-sided Warbler (Breeding male) \t[ID: 760]\n",
      "Red-tailed Hawk (Light morph immature)\n",
      "\t|- Birds \t[ID: 0]\n",
      "\t\t|- Hawks, Kites, Eagles, and Allies \t[ID: 8]\n",
      "\t\t\t|- Hawks, Kites, Eagles, and Allies \t[ID: 8]\n",
      "\t\t\t\t|- Red-tailed Hawk \t[ID: 210]\n",
      "\t\t\t\t\t|- Red-tailed Hawk \t[ID: 210]\n",
      "\t\t\t\t\t\t|- Red-tailed Hawk (Light morph immature) \t[ID: 700]\n",
      "Carolina Chickadee\n",
      "\t|- Birds \t[ID: 0]\n",
      "\t\t|- Perching Birds \t[ID: 22]\n",
      "\t\t\t|- Perching Birds \t[ID: 22]\n",
      "\t\t\t\t|- Chickadees and Titmice \t[ID: 69]\n",
      "\t\t\t\t\t|- Chickadees and Titmice \t[ID: 69]\n",
      "\t\t\t\t\t\t|- Carolina Chickadee \t[ID: 261]\n",
      "\t\t\t\t\t\t\t|- Carolina Chickadee \t[ID: 261]\n",
      "\t\t\t\t\t\t\t\t|- Carolina Chickadee \t[ID: 811]\n",
      "Louisiana Waterthrush\n",
      "\t|- Birds \t[ID: 0]\n",
      "\t\t|- Perching Birds \t[ID: 22]\n",
      "\t\t\t|- Perching Birds \t[ID: 22]\n",
      "\t\t\t\t|- Wood-Warblers \t[ID: 207]\n",
      "\t\t\t\t\t|- Wood-Warblers \t[ID: 207]\n",
      "\t\t\t\t\t\t|- Louisiana Waterthrush \t[ID: 253]\n",
      "\t\t\t\t\t\t\t|- Louisiana Waterthrush \t[ID: 253]\n",
      "\t\t\t\t\t\t\t\t|- Louisiana Waterthrush \t[ID: 861]\n",
      "Sharp-shinned Hawk (Immature)\n",
      "\t|- Birds \t[ID: 0]\n",
      "\t\t|- Hawks, Kites, Eagles, and Allies \t[ID: 8]\n",
      "\t\t\t|- Hawks, Kites, Eagles, and Allies \t[ID: 8]\n",
      "\t\t\t\t|- Sharp-shinned Hawk \t[ID: 135]\n",
      "\t\t\t\t\t|- Sharp-shinned Hawk \t[ID: 135]\n",
      "\t\t\t\t\t\t|- Sharp-shinned Hawk (Immature) \t[ID: 656]\n",
      "Ruby-crowned Kinglet\n",
      "\t|- Birds \t[ID: 0]\n",
      "\t\t|- Perching Birds \t[ID: 22]\n",
      "\t\t\t|- Perching Birds \t[ID: 22]\n",
      "\t\t\t\t|- Kinglets \t[ID: 143]\n",
      "\t\t\t\t\t|- Kinglets \t[ID: 143]\n",
      "\t\t\t\t\t\t|- Ruby-crowned Kinglet \t[ID: 595]\n",
      "\t\t\t\t\t\t\t|- Ruby-crowned Kinglet \t[ID: 595]\n",
      "\t\t\t\t\t\t\t\t|- Ruby-crowned Kinglet \t[ID: 840]\n",
      "Spotted Towhee\n",
      "\t|- Birds \t[ID: 0]\n",
      "\t\t|- Perching Birds \t[ID: 22]\n",
      "\t\t\t|- Perching Birds \t[ID: 22]\n",
      "\t\t\t\t|- New World Sparrows and Allies \t[ID: 212]\n",
      "\t\t\t\t\t|- New World Sparrows and Allies \t[ID: 212]\n",
      "\t\t\t\t\t\t|- Spotted Towhee \t[ID: 258]\n",
      "\t\t\t\t\t\t\t|- Spotted Towhee \t[ID: 258]\n",
      "\t\t\t\t\t\t\t\t|- Spotted Towhee \t[ID: 888]\n",
      "Brown Pelican\n",
      "\t|- Birds \t[ID: 0]\n",
      "\t\t|- Pelicans, Herons, Ibises, and Allies \t[ID: 7]\n",
      "\t\t\t|- Pelicans, Herons, Ibises, and Allies \t[ID: 7]\n",
      "\t\t\t\t|- Brown Pelican \t[ID: 41]\n",
      "\t\t\t\t\t|- Brown Pelican \t[ID: 41]\n",
      "\t\t\t\t\t\t|- Brown Pelican \t[ID: 479]\n",
      "American Robin (Adult)\n",
      "\t|- Birds \t[ID: 0]\n",
      "\t\t|- Perching Birds \t[ID: 22]\n",
      "\t\t\t|- Perching Birds \t[ID: 22]\n",
      "\t\t\t\t|- Thrushes \t[ID: 156]\n",
      "\t\t\t\t\t|- Thrushes \t[ID: 156]\n",
      "\t\t\t\t\t\t|- American Robin \t[ID: 718]\n",
      "\t\t\t\t\t\t\t|- American Robin \t[ID: 718]\n",
      "\t\t\t\t\t\t\t\t|- American Robin (Adult) \t[ID: 753]\n",
      "Pine Siskin\n",
      "\t|- Birds \t[ID: 0]\n",
      "\t\t|- Perching Birds \t[ID: 22]\n",
      "\t\t\t|- Perching Birds \t[ID: 22]\n",
      "\t\t\t\t|- Finches and Allies \t[ID: 231]\n",
      "\t\t\t\t\t|- Finches and Allies \t[ID: 231]\n",
      "\t\t\t\t\t\t|- Pine Siskin \t[ID: 703]\n",
      "\t\t\t\t\t\t\t|- Pine Siskin \t[ID: 703]\n",
      "\t\t\t\t\t\t\t\t|- Pine Siskin \t[ID: 922]\n",
      "Black Skimmer\n",
      "\t|- Birds \t[ID: 0]\n",
      "\t\t|- Gulls, Terns, and Allies \t[ID: 13]\n",
      "\t\t\t|- Gulls, Terns, and Allies \t[ID: 13]\n",
      "\t\t\t\t|- Black Skimmer \t[ID: 250]\n",
      "\t\t\t\t\t|- Black Skimmer \t[ID: 250]\n",
      "\t\t\t\t\t\t|- Black Skimmer \t[ID: 453]\n",
      "Gambel's Quail (Female/juvenile)\n",
      "\t|- Birds \t[ID: 0]\n",
      "\t\t|- Grouse, Quail, and Allies \t[ID: 2]\n",
      "\t\t\t|- Grouse, Quail, and Allies \t[ID: 2]\n",
      "\t\t\t\t|- Gambel's Quail \t[ID: 103]\n",
      "\t\t\t\t\t|- Gambel's Quail \t[ID: 103]\n",
      "\t\t\t\t\t\t|- Gambel's Quail (Female/juvenile) \t[ID: 638]\n",
      "Great Egret\n",
      "\t|- Birds \t[ID: 0]\n",
      "\t\t|- Pelicans, Herons, Ibises, and Allies \t[ID: 7]\n",
      "\t\t\t|- Pelicans, Herons, Ibises, and Allies \t[ID: 7]\n",
      "\t\t\t\t|- Great Egret \t[ID: 71]\n",
      "\t\t\t\t\t|- Great Egret \t[ID: 71]\n",
      "\t\t\t\t\t\t|- Great Egret \t[ID: 481]\n",
      "Curve-billed Thrasher\n",
      "\t|- Birds \t[ID: 0]\n",
      "\t\t|- Perching Birds \t[ID: 22]\n",
      "\t\t\t|- Perching Birds \t[ID: 22]\n",
      "\t\t\t\t|- Mockingbirds, Thrashers, and Allies \t[ID: 165]\n",
      "\t\t\t\t\t|- Mockingbirds, Thrashers, and Allies \t[ID: 165]\n",
      "\t\t\t\t\t\t|- Curve-billed Thrasher \t[ID: 596]\n",
      "\t\t\t\t\t\t\t|- Curve-billed Thrasher \t[ID: 596]\n",
      "\t\t\t\t\t\t\t\t|- Curve-billed Thrasher \t[ID: 854]\n"
     ]
    },
    {
     "data": {
      "text/plain": [
       "[{'image_id': '0000139e-21dc-4d0c-bfe1-4cae3c85c829',\n",
       "  'class_name': 'Oak Titmouse',\n",
       "  'class_label': '817',\n",
       "  'new_class_label': '587',\n",
       "  'new_class_name': 'Oak Titmouse'},\n",
       " {'image_id': '0000d9fc-4e02-4c06-a0af-a55cfb16b12b',\n",
       "  'class_name': 'Ovenbird',\n",
       "  'class_label': '860',\n",
       "  'new_class_label': '251',\n",
       "  'new_class_name': 'Ovenbird'},\n",
       " {'image_id': '00019306-9d83-4334-b255-a447742edce3',\n",
       "  'class_name': 'Savannah Sparrow',\n",
       "  'class_label': '900',\n",
       "  'new_class_label': '583',\n",
       "  'new_class_name': 'Savannah Sparrow'},\n",
       " {'image_id': '0001afd4-99a1-4a67-b940-d419413e23b3',\n",
       "  'class_name': 'Eared Grebe (Nonbreeding/juvenile)',\n",
       "  'class_label': '645',\n",
       "  'new_class_label': '157',\n",
       "  'new_class_name': 'Eared Grebe'},\n",
       " {'image_id': '000332b8-997c-4540-9647-2f0a8495aecf',\n",
       "  'class_name': 'Eastern Phoebe',\n",
       "  'class_label': '929',\n",
       "  'new_class_label': '420',\n",
       "  'new_class_name': 'Eastern Phoebe'},\n",
       " {'image_id': '000343bd-5215-49ba-ab9c-7c97a70ac1a5',\n",
       "  'class_name': 'Yellow-crowned Night-Heron (Immature)',\n",
       "  'class_label': '652',\n",
       "  'new_class_label': '184',\n",
       "  'new_class_name': 'Yellow-crowned Night-Heron'},\n",
       " {'image_id': '0004ff8d-0cc8-47ee-94ba-43352a8b9eb4',\n",
       "  'class_name': 'Florida Scrub-Jay',\n",
       "  'class_label': '951',\n",
       "  'new_class_label': '301',\n",
       "  'new_class_name': 'Florida Scrub-Jay'},\n",
       " {'image_id': '0007181f-a727-4481-ad89-591200c61b9d',\n",
       "  'class_name': 'Savannah Sparrow',\n",
       "  'class_label': '900',\n",
       "  'new_class_label': '583',\n",
       "  'new_class_name': 'Savannah Sparrow'},\n",
       " {'image_id': '00071e20-8156-4bd8-b5ca-6445c2560ee5',\n",
       "  'class_name': 'Yellow-headed Blackbird (Female/Immature Male)',\n",
       "  'class_label': '988',\n",
       "  'new_class_label': '306',\n",
       "  'new_class_name': 'Yellow-headed Blackbird'},\n",
       " {'image_id': '0007acfc-c0e6-4393-9ab6-02215a82ef63',\n",
       "  'class_name': 'Herring Gull (Adult)',\n",
       "  'class_label': '400',\n",
       "  'new_class_label': '242',\n",
       "  'new_class_name': 'Herring Gull'},\n",
       " {'image_id': '00081fce-2a74-4a9f-b52b-9bb8871a48e2',\n",
       "  'class_name': \"Townsend's Solitaire\",\n",
       "  'class_label': '845',\n",
       "  'new_class_label': '407',\n",
       "  'new_class_name': \"Townsend's Solitaire\"},\n",
       " {'image_id': '00085a7b-efcc-4c08-a830-38477e749101',\n",
       "  'class_name': 'Ruddy Duck (Female/juvenile)',\n",
       "  'class_label': '698',\n",
       "  'new_class_label': '238',\n",
       "  'new_class_name': 'Ruddy Duck'},\n",
       " {'image_id': '0009051b-a76c-4a27-ac5d-bf410aea7e0c',\n",
       "  'class_name': 'Lazuli Bunting (Adult Male)',\n",
       "  'class_label': '776',\n",
       "  'new_class_label': '687',\n",
       "  'new_class_name': 'Lazuli Bunting'},\n",
       " {'image_id': '000948ee-8c19-40bb-8403-72c665e7ffc3',\n",
       "  'class_name': 'Black-crowned Night-Heron (Immature)',\n",
       "  'class_label': '651',\n",
       "  'new_class_label': '173',\n",
       "  'new_class_name': 'Black-crowned Night-Heron'},\n",
       " {'image_id': '00098273-c636-4b0e-b615-b6c03b00d39a',\n",
       "  'class_name': 'Red-tailed Hawk (Light morph immature)',\n",
       "  'class_label': '700',\n",
       "  'new_class_label': '210',\n",
       "  'new_class_name': 'Red-tailed Hawk'},\n",
       " {'image_id': '000c3c44-dd8c-4efe-949e-3adfd766d719',\n",
       "  'class_name': 'Red-eyed Vireo',\n",
       "  'class_label': '947',\n",
       "  'new_class_label': '733',\n",
       "  'new_class_name': 'Red-eyed Vireo'},\n",
       " {'image_id': '000d5736-1eff-4207-a587-7b8f7115d529',\n",
       "  'class_name': 'Red-naped Sapsucker',\n",
       "  'class_label': '555',\n",
       "  'new_class_label': '124',\n",
       "  'new_class_name': 'Red-naped Sapsucker'},\n",
       " {'image_id': '000ef8cc-7230-46a0-8415-e13eb13bbc28',\n",
       "  'class_name': \"Allen's Hummingbird (Adult Male)\",\n",
       "  'class_label': '380',\n",
       "  'new_class_label': '228',\n",
       "  'new_class_name': \"Allen's Hummingbird\"},\n",
       " {'image_id': '001037a2-b6d1-4517-b305-c14a8bdf7963',\n",
       "  'class_name': \"Hutton's Vireo\",\n",
       "  'class_label': '945',\n",
       "  'new_class_label': '689',\n",
       "  'new_class_name': \"Hutton's Vireo\"},\n",
       " {'image_id': '00114d1f-8049-4003-8517-4449acd06059',\n",
       "  'class_name': 'Vermilion Flycatcher (Adult male)',\n",
       "  'class_label': '797',\n",
       "  'new_class_label': '575',\n",
       "  'new_class_name': 'Vermilion Flycatcher'},\n",
       " {'image_id': '0013bc94-07e0-4ff6-b193-8da8f367486f',\n",
       "  'class_name': 'Bridled Titmouse',\n",
       "  'class_label': '816',\n",
       "  'new_class_label': '569',\n",
       "  'new_class_name': 'Bridled Titmouse'},\n",
       " {'image_id': '0015085a-392b-40a3-8d90-7af61f37e8f8',\n",
       "  'class_name': 'Painted Bunting (Female/juvenile)',\n",
       "  'class_label': '985',\n",
       "  'new_class_label': '723',\n",
       "  'new_class_name': 'Painted Bunting'},\n",
       " {'image_id': '0015c3c3-0eac-4e9e-823a-6b1c120e565f',\n",
       "  'class_name': 'Great Cormorant (Adult)',\n",
       "  'class_label': '349',\n",
       "  'new_class_label': '170',\n",
       "  'new_class_name': 'Great Cormorant'},\n",
       " {'image_id': '00178393-59ef-4637-a413-9fc829cd66fd',\n",
       "  'class_name': \"Steller's Jay\",\n",
       "  'class_label': '949',\n",
       "  'new_class_label': '271',\n",
       "  'new_class_name': \"Steller's Jay\"},\n",
       " {'image_id': '001b2009-a40b-4499-aabc-55a7b13bbab9',\n",
       "  'class_name': 'Common Yellowthroat (Female/immature male)',\n",
       "  'class_label': '963',\n",
       "  'new_class_label': '391',\n",
       "  'new_class_name': 'Common Yellowthroat'},\n",
       " {'image_id': '001b3efd-d932-452d-a06f-70bd0d962b9c',\n",
       "  'class_name': 'Verdin',\n",
       "  'class_label': '821',\n",
       "  'new_class_label': '433',\n",
       "  'new_class_name': 'Verdin'},\n",
       " {'image_id': '001b9f7c-b3d3-4622-86c4-c770bac38d6b',\n",
       "  'class_name': 'Killdeer',\n",
       "  'class_label': '504',\n",
       "  'new_class_label': '30',\n",
       "  'new_class_name': 'Killdeer'},\n",
       " {'image_id': '001c81f1-d302-4029-8cb5-4488e966eff7',\n",
       "  'class_name': 'House Finch (Female/immature)',\n",
       "  'class_label': '997',\n",
       "  'new_class_label': '419',\n",
       "  'new_class_name': 'House Finch'},\n",
       " {'image_id': '001da3c1-ea3d-4b8a-935e-21593b3b3f02',\n",
       "  'class_name': 'Reddish Egret (Dark morph)',\n",
       "  'class_label': '351',\n",
       "  'new_class_label': '127',\n",
       "  'new_class_name': 'Reddish Egret'},\n",
       " {'image_id': '00209b86-583c-44d1-b7ef-a7dcab6bed7d',\n",
       "  'class_name': 'Spotted Sandpiper (Nonbreeding/juvenile)',\n",
       "  'class_label': '667',\n",
       "  'new_class_label': '56',\n",
       "  'new_class_name': 'Spotted Sandpiper'},\n",
       " {'image_id': '0021434d-727a-42be-921d-a187ec291ed2',\n",
       "  'class_name': 'White-winged Scoter (Female/juvenile)',\n",
       "  'class_label': '629',\n",
       "  'new_class_label': '192',\n",
       "  'new_class_name': 'White-winged Scoter'},\n",
       " {'image_id': '002287c9-e090-4162-9edd-ae091471818a',\n",
       "  'class_name': 'Golden Eagle (Immature)',\n",
       "  'class_label': '661',\n",
       "  'new_class_label': '234',\n",
       "  'new_class_name': 'Golden Eagle'},\n",
       " {'image_id': '00231538-51eb-40ba-80a1-70e8e3239d13',\n",
       "  'class_name': \"Cassin's Vireo\",\n",
       "  'class_label': '943',\n",
       "  'new_class_label': '563',\n",
       "  'new_class_name': \"Cassin's Vireo\"},\n",
       " {'image_id': '002318eb-0623-487f-b32a-e71c565fbf17',\n",
       "  'class_name': 'White-winged Dove',\n",
       "  'class_label': '528',\n",
       "  'new_class_label': '137',\n",
       "  'new_class_name': 'White-winged Dove'},\n",
       " {'image_id': '0023c1b5-3166-4813-ada0-2799363657a6',\n",
       "  'class_name': 'Western Screech-Owl',\n",
       "  'class_label': '537',\n",
       "  'new_class_label': '62',\n",
       "  'new_class_name': 'Western Screech-Owl'},\n",
       " {'image_id': '0025de5e-f620-4079-8a0f-00326ff3a6b0',\n",
       "  'class_name': 'White-crowned Sparrow (Adult)',\n",
       "  'class_label': '766',\n",
       "  'new_class_label': '729',\n",
       "  'new_class_name': 'White-crowned Sparrow'},\n",
       " {'image_id': '00264fb1-c70b-4412-aa5b-22fc16782da6',\n",
       "  'class_name': 'Chestnut-sided Warbler (Breeding male)',\n",
       "  'class_label': '760',\n",
       "  'new_class_label': '577',\n",
       "  'new_class_name': 'Chestnut-sided Warbler'},\n",
       " {'image_id': '0027700e-4915-4516-b358-a14296e16355',\n",
       "  'class_name': 'Red-tailed Hawk (Light morph immature)',\n",
       "  'class_label': '700',\n",
       "  'new_class_label': '210',\n",
       "  'new_class_name': 'Red-tailed Hawk'},\n",
       " {'image_id': '0028c3a4-55cd-451c-b508-4580cee6ab35',\n",
       "  'class_name': 'Carolina Chickadee',\n",
       "  'class_label': '811',\n",
       "  'new_class_label': '261',\n",
       "  'new_class_name': 'Carolina Chickadee'},\n",
       " {'image_id': '0029cd78-55e8-42dc-9ec3-1fe1c3608aa1',\n",
       "  'class_name': 'Louisiana Waterthrush',\n",
       "  'class_label': '861',\n",
       "  'new_class_label': '253',\n",
       "  'new_class_name': 'Louisiana Waterthrush'},\n",
       " {'image_id': '0029e7b0-aa46-4988-a9e8-10b54efc3d91',\n",
       "  'class_name': 'Sharp-shinned Hawk (Immature)',\n",
       "  'class_label': '656',\n",
       "  'new_class_label': '135',\n",
       "  'new_class_name': 'Sharp-shinned Hawk'},\n",
       " {'image_id': '002b7476-7ee1-4e03-b128-dfe354b427b5',\n",
       "  'class_name': 'Ruby-crowned Kinglet',\n",
       "  'class_label': '840',\n",
       "  'new_class_label': '595',\n",
       "  'new_class_name': 'Ruby-crowned Kinglet'},\n",
       " {'image_id': '002d1227-58a6-4029-844c-1dac333be0c1',\n",
       "  'class_name': 'Spotted Towhee',\n",
       "  'class_label': '888',\n",
       "  'new_class_label': '258',\n",
       "  'new_class_name': 'Spotted Towhee'},\n",
       " {'image_id': '002f08ee-333f-47d8-8aaa-857895380bed',\n",
       "  'class_name': 'Brown Pelican',\n",
       "  'class_label': '479',\n",
       "  'new_class_label': '41',\n",
       "  'new_class_name': 'Brown Pelican'},\n",
       " {'image_id': '002f236b-574f-4448-8f59-b72d0f0e835e',\n",
       "  'class_name': 'American Robin (Adult)',\n",
       "  'class_label': '753',\n",
       "  'new_class_label': '718',\n",
       "  'new_class_name': 'American Robin'},\n",
       " {'image_id': '002fac9e-8510-4f41-a784-3820e9e87ee3',\n",
       "  'class_name': 'Pine Siskin',\n",
       "  'class_label': '922',\n",
       "  'new_class_label': '703',\n",
       "  'new_class_name': 'Pine Siskin'},\n",
       " {'image_id': '00325b75-2716-4ac9-b156-1dc07d4a324a',\n",
       "  'class_name': 'Black Skimmer',\n",
       "  'class_label': '453',\n",
       "  'new_class_label': '250',\n",
       "  'new_class_name': 'Black Skimmer'},\n",
       " {'image_id': '0034c09a-423e-489c-9a84-d6b73e6ee79d',\n",
       "  'class_name': \"Gambel's Quail (Female/juvenile)\",\n",
       "  'class_label': '638',\n",
       "  'new_class_label': '103',\n",
       "  'new_class_name': \"Gambel's Quail\"},\n",
       " {'image_id': '0036de31-8051-4bc5-aa20-2b93b5598235',\n",
       "  'class_name': 'Great Egret',\n",
       "  'class_label': '481',\n",
       "  'new_class_label': '71',\n",
       "  'new_class_name': 'Great Egret'},\n",
       " {'image_id': '00378235-a328-4524-8ff3-41430238a387',\n",
       "  'class_name': 'Curve-billed Thrasher',\n",
       "  'class_label': '854',\n",
       "  'new_class_label': '596',\n",
       "  'new_class_name': 'Curve-billed Thrasher'}]"
      ]
     },
     "execution_count": 192,
     "metadata": {},
     "output_type": "execute_result"
    }
   ],
   "source": [
    "flatten_hierachy(visualize=True,end=50)"
   ]
  },
  {
   "cell_type": "code",
   "execution_count": 193,
   "metadata": {},
   "outputs": [],
   "source": [
    "final_class_df = pd.DataFrame(flatten_hierachy(visualize=False))"
   ]
  },
  {
   "cell_type": "code",
   "execution_count": 194,
   "metadata": {},
   "outputs": [
    {
     "data": {
      "text/html": [
       "<div>\n",
       "<style scoped>\n",
       "    .dataframe tbody tr th:only-of-type {\n",
       "        vertical-align: middle;\n",
       "    }\n",
       "\n",
       "    .dataframe tbody tr th {\n",
       "        vertical-align: top;\n",
       "    }\n",
       "\n",
       "    .dataframe thead th {\n",
       "        text-align: right;\n",
       "    }\n",
       "</style>\n",
       "<table border=\"1\" class=\"dataframe\">\n",
       "  <thead>\n",
       "    <tr style=\"text-align: right;\">\n",
       "      <th></th>\n",
       "      <th>class_label</th>\n",
       "      <th>class_name</th>\n",
       "      <th>image_id</th>\n",
       "      <th>new_class_label</th>\n",
       "      <th>new_class_name</th>\n",
       "    </tr>\n",
       "  </thead>\n",
       "  <tbody>\n",
       "    <tr>\n",
       "      <th>0</th>\n",
       "      <td>817</td>\n",
       "      <td>Oak Titmouse</td>\n",
       "      <td>0000139e-21dc-4d0c-bfe1-4cae3c85c829</td>\n",
       "      <td>587</td>\n",
       "      <td>Oak Titmouse</td>\n",
       "    </tr>\n",
       "    <tr>\n",
       "      <th>1</th>\n",
       "      <td>860</td>\n",
       "      <td>Ovenbird</td>\n",
       "      <td>0000d9fc-4e02-4c06-a0af-a55cfb16b12b</td>\n",
       "      <td>251</td>\n",
       "      <td>Ovenbird</td>\n",
       "    </tr>\n",
       "    <tr>\n",
       "      <th>2</th>\n",
       "      <td>900</td>\n",
       "      <td>Savannah Sparrow</td>\n",
       "      <td>00019306-9d83-4334-b255-a447742edce3</td>\n",
       "      <td>583</td>\n",
       "      <td>Savannah Sparrow</td>\n",
       "    </tr>\n",
       "    <tr>\n",
       "      <th>3</th>\n",
       "      <td>645</td>\n",
       "      <td>Eared Grebe (Nonbreeding/juvenile)</td>\n",
       "      <td>0001afd4-99a1-4a67-b940-d419413e23b3</td>\n",
       "      <td>157</td>\n",
       "      <td>Eared Grebe</td>\n",
       "    </tr>\n",
       "    <tr>\n",
       "      <th>4</th>\n",
       "      <td>929</td>\n",
       "      <td>Eastern Phoebe</td>\n",
       "      <td>000332b8-997c-4540-9647-2f0a8495aecf</td>\n",
       "      <td>420</td>\n",
       "      <td>Eastern Phoebe</td>\n",
       "    </tr>\n",
       "  </tbody>\n",
       "</table>\n",
       "</div>"
      ],
      "text/plain": [
       "  class_label                          class_name  \\\n",
       "0         817                        Oak Titmouse   \n",
       "1         860                            Ovenbird   \n",
       "2         900                    Savannah Sparrow   \n",
       "3         645  Eared Grebe (Nonbreeding/juvenile)   \n",
       "4         929                      Eastern Phoebe   \n",
       "\n",
       "                               image_id new_class_label    new_class_name  \n",
       "0  0000139e-21dc-4d0c-bfe1-4cae3c85c829             587      Oak Titmouse  \n",
       "1  0000d9fc-4e02-4c06-a0af-a55cfb16b12b             251          Ovenbird  \n",
       "2  00019306-9d83-4334-b255-a447742edce3             583  Savannah Sparrow  \n",
       "3  0001afd4-99a1-4a67-b940-d419413e23b3             157       Eared Grebe  \n",
       "4  000332b8-997c-4540-9647-2f0a8495aecf             420    Eastern Phoebe  "
      ]
     },
     "execution_count": 194,
     "metadata": {},
     "output_type": "execute_result"
    }
   ],
   "source": [
    "final_class_df.head()"
   ]
  },
  {
   "cell_type": "code",
   "execution_count": null,
   "metadata": {},
   "outputs": [],
   "source": []
  },
  {
   "cell_type": "code",
   "execution_count": null,
   "metadata": {},
   "outputs": [],
   "source": []
  },
  {
   "cell_type": "markdown",
   "metadata": {},
   "source": [
    "** Image Masking **"
   ]
  },
  {
   "cell_type": "code",
   "execution_count": 195,
   "metadata": {},
   "outputs": [
    {
     "data": {
      "text/plain": [
       "'0929/000332b8997c454096472f0a8495aecf.jpg'"
      ]
     },
     "execution_count": 195,
     "metadata": {},
     "output_type": "execute_result"
    }
   ],
   "source": [
    "image_id = \"000332b8-997c-4540-9647-2f0a8495aecf\"\n",
    "image_mapping[image_id]"
   ]
  },
  {
   "cell_type": "code",
   "execution_count": 196,
   "metadata": {},
   "outputs": [
    {
     "data": {
      "text/plain": [
       "(395, 139, 262, 390)"
      ]
     },
     "execution_count": 196,
     "metadata": {},
     "output_type": "execute_result"
    }
   ],
   "source": [
    "bbox_x, bbox_y, bbox_width, bbox_height = bboxes[image_id]\n",
    "(bbox_x, bbox_y, bbox_width, bbox_height)"
   ]
  },
  {
   "cell_type": "code",
   "execution_count": null,
   "metadata": {},
   "outputs": [],
   "source": []
  },
  {
   "cell_type": "code",
   "execution_count": 197,
   "metadata": {},
   "outputs": [],
   "source": [
    "original_img = skio.imread(f'nabirds/images/{image_mapping[image_id]}')\n"
   ]
  },
  {
   "cell_type": "code",
   "execution_count": 198,
   "metadata": {},
   "outputs": [
    {
     "data": {
      "text/plain": [
       "<matplotlib.image.AxesImage at 0x7f2da260ef28>"
      ]
     },
     "execution_count": 198,
     "metadata": {},
     "output_type": "execute_result"
    },
    {
     "data": {
      "image/png": "[encoded data removed]",
      "text/plain": [
       "<Figure size 432x288 with 1 Axes>"
      ]
     },
     "metadata": {},
     "output_type": "display_data"
    }
   ],
   "source": [
    "plt.imshow(original_img)"
   ]
  },
  {
   "cell_type": "code",
   "execution_count": 199,
   "metadata": {},
   "outputs": [
    {
     "data": {
      "text/plain": [
       "(395, 139, 262, 390)"
      ]
     },
     "execution_count": 199,
     "metadata": {},
     "output_type": "execute_result"
    }
   ],
   "source": [
    "(bbox_x, bbox_y, bbox_width, bbox_height)"
   ]
  },
  {
   "cell_type": "code",
   "execution_count": 200,
   "metadata": {},
   "outputs": [
    {
     "data": {
      "text/plain": [
       "<matplotlib.image.AxesImage at 0x7f2d9d635908>"
      ]
     },
     "execution_count": 200,
     "metadata": {},
     "output_type": "execute_result"
    },
    {
     "data": {
      "image/png": "[encoded data removed]",
      "text/plain": [
       "<Figure size 432x288 with 1 Axes>"
      ]
     },
     "metadata": {},
     "output_type": "display_data"
    }
   ],
   "source": [
    "plt.imshow(original_img[bbox_y:bbox_y+bbox_height,bbox_x:bbox_x+bbox_width ])"
   ]
  },
  {
   "cell_type": "code",
   "execution_count": null,
   "metadata": {},
   "outputs": [],
   "source": []
  },
  {
   "cell_type": "markdown",
   "metadata": {},
   "source": [
    "# Save Final Images"
   ]
  },
  {
   "cell_type": "code",
   "execution_count": 201,
   "metadata": {},
   "outputs": [
    {
     "data": {
      "text/plain": [
       "48562"
      ]
     },
     "execution_count": 201,
     "metadata": {},
     "output_type": "execute_result"
    }
   ],
   "source": [
    "len(final_class_df)"
   ]
  },
  {
   "cell_type": "code",
   "execution_count": 190,
   "metadata": {},
   "outputs": [
    {
     "data": {
      "text/plain": [
       "48562"
      ]
     },
     "execution_count": 190,
     "metadata": {},
     "output_type": "execute_result"
    }
   ],
   "source": [
    "len(image_class_labels)"
   ]
  },
  {
   "cell_type": "code",
   "execution_count": 215,
   "metadata": {},
   "outputs": [],
   "source": []
  },
  {
   "cell_type": "code",
   "execution_count": 240,
   "metadata": {},
   "outputs": [
    {
     "name": "stderr",
     "output_type": "stream",
     "text": [
      "100%|██████████| 48562/48562 [02:14<00:00, 361.57it/s]\n"
     ]
    }
   ],
   "source": [
    "new_dest_path = \"nabirds_processed\"\n",
    "shutil.rmtree(new_dest_path, ignore_errors=True)\n",
    "os.mkdir(new_dest_path)\n",
    "\n",
    "for record in tqdm(final_class_df.to_dict(orient='records')):\n",
    "    class_label = record['class_label'].zfill(4)\n",
    "    new_class_label = record['new_class_label'].zfill(4)\n",
    "\n",
    "    new_class_name = record['new_class_name'].lower().replace(\" \",\"_\").replace(\"'\",\"\")\n",
    "    image_id= record['image_id']\n",
    "    \n",
    "    file_name = image_mapping[image_id].replace(class_label+\"/\",\"\")\n",
    "    \n",
    "    current_path = f\"nabirds/images/{class_label}/{file_name}\"\n",
    "    new_path = f\"{new_dest_path}/{new_class_name}/{file_name}\"\n",
    "    os.makedirs(f\"{new_dest_path}/{new_class_name}\",exist_ok=True)\n",
    "    shutil.copyfile(current_path,new_path)\n"
   ]
  },
  {
   "cell_type": "code",
   "execution_count": null,
   "metadata": {},
   "outputs": [],
   "source": []
  },
  {
   "cell_type": "markdown",
   "metadata": {},
   "source": [
    "# Save to gcs"
   ]
  },
  {
   "cell_type": "code",
   "execution_count": 241,
   "metadata": {},
   "outputs": [],
   "source": []
  },
  {
   "cell_type": "code",
   "execution_count": null,
   "metadata": {},
   "outputs": [],
   "source": []
  },
  {
   "cell_type": "code",
   "execution_count": 246,
   "metadata": {},
   "outputs": [],
   "source": [
    "!gsutil -q -m cp -r nabirds_processed/* gs://${GCS_BUCKET}/datasets/bird/nabirds/"
   ]
  },
  {
   "cell_type": "code",
   "execution_count": 243,
   "metadata": {},
   "outputs": [
    {
     "name": "stdout",
     "output_type": "stream",
     "text": [
      "nabirds_processed\n"
     ]
    }
   ],
   "source": [
    "print (new_dest_path)"
   ]
  },
  {
   "cell_type": "code",
   "execution_count": null,
   "metadata": {},
   "outputs": [],
   "source": []
  }
 ],
 "metadata": {
  "kernelspec": {
   "display_name": "Python 3",
   "language": "python",
   "name": "python3"
  },
  "language_info": {
   "codemirror_mode": {
    "name": "ipython",
    "version": 3
   },
   "file_extension": ".py",
   "mimetype": "text/x-python",
   "name": "python",
   "nbconvert_exporter": "python",
   "pygments_lexer": "ipython3",
   "version": "3.6.5"
  }
 },
 "nbformat": 4,
 "nbformat_minor": 2
}
